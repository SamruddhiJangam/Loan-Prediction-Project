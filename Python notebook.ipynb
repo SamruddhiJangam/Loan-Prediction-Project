{
 "cells": [
  {
   "cell_type": "markdown",
   "id": "389b6b81",
   "metadata": {},
   "source": [
    "### Read Dataset"
   ]
  },
  {
   "cell_type": "code",
   "execution_count": 1,
   "id": "57dab835",
   "metadata": {},
   "outputs": [],
   "source": [
    "import pandas as pd\n",
    "train = pd.read_csv(\"C:/Users/HP/Desktop/ETLHive/Project 3/training_set.csv\")\n",
    "test = pd.read_csv(\"C:/Users/HP/Desktop/ETLHive/Project 3/testing_set.csv\")"
   ]
  },
  {
   "cell_type": "code",
   "execution_count": 2,
   "id": "3058c697",
   "metadata": {},
   "outputs": [
    {
     "data": {
      "text/html": [
       "<div>\n",
       "<style scoped>\n",
       "    .dataframe tbody tr th:only-of-type {\n",
       "        vertical-align: middle;\n",
       "    }\n",
       "\n",
       "    .dataframe tbody tr th {\n",
       "        vertical-align: top;\n",
       "    }\n",
       "\n",
       "    .dataframe thead th {\n",
       "        text-align: right;\n",
       "    }\n",
       "</style>\n",
       "<table border=\"1\" class=\"dataframe\">\n",
       "  <thead>\n",
       "    <tr style=\"text-align: right;\">\n",
       "      <th></th>\n",
       "      <th>Loan_ID</th>\n",
       "      <th>Gender</th>\n",
       "      <th>Married</th>\n",
       "      <th>Dependents</th>\n",
       "      <th>Education</th>\n",
       "      <th>Self_Employed</th>\n",
       "      <th>ApplicantIncome</th>\n",
       "      <th>CoapplicantIncome</th>\n",
       "      <th>LoanAmount</th>\n",
       "      <th>Loan_Amount_Term</th>\n",
       "      <th>Credit_History</th>\n",
       "      <th>Property_Area</th>\n",
       "      <th>Loan_Status</th>\n",
       "    </tr>\n",
       "  </thead>\n",
       "  <tbody>\n",
       "    <tr>\n",
       "      <th>0</th>\n",
       "      <td>LP001002</td>\n",
       "      <td>Male</td>\n",
       "      <td>No</td>\n",
       "      <td>0</td>\n",
       "      <td>Graduate</td>\n",
       "      <td>No</td>\n",
       "      <td>5849.0</td>\n",
       "      <td>0.0</td>\n",
       "      <td>NaN</td>\n",
       "      <td>360.0</td>\n",
       "      <td>1.0</td>\n",
       "      <td>Urban</td>\n",
       "      <td>Y</td>\n",
       "    </tr>\n",
       "    <tr>\n",
       "      <th>1</th>\n",
       "      <td>LP001003</td>\n",
       "      <td>Male</td>\n",
       "      <td>Yes</td>\n",
       "      <td>1</td>\n",
       "      <td>Graduate</td>\n",
       "      <td>No</td>\n",
       "      <td>NaN</td>\n",
       "      <td>1508.0</td>\n",
       "      <td>128.0</td>\n",
       "      <td>360.0</td>\n",
       "      <td>1.0</td>\n",
       "      <td>Rural</td>\n",
       "      <td>N</td>\n",
       "    </tr>\n",
       "    <tr>\n",
       "      <th>2</th>\n",
       "      <td>LP001005</td>\n",
       "      <td>Male</td>\n",
       "      <td>Yes</td>\n",
       "      <td>0</td>\n",
       "      <td>Graduate</td>\n",
       "      <td>Yes</td>\n",
       "      <td>3000.0</td>\n",
       "      <td>0.0</td>\n",
       "      <td>66.0</td>\n",
       "      <td>360.0</td>\n",
       "      <td>1.0</td>\n",
       "      <td>Urban</td>\n",
       "      <td>Y</td>\n",
       "    </tr>\n",
       "  </tbody>\n",
       "</table>\n",
       "</div>"
      ],
      "text/plain": [
       "    Loan_ID Gender Married Dependents Education Self_Employed  \\\n",
       "0  LP001002   Male      No          0  Graduate            No   \n",
       "1  LP001003   Male     Yes          1  Graduate            No   \n",
       "2  LP001005   Male     Yes          0  Graduate           Yes   \n",
       "\n",
       "   ApplicantIncome  CoapplicantIncome  LoanAmount  Loan_Amount_Term  \\\n",
       "0           5849.0                0.0         NaN             360.0   \n",
       "1              NaN             1508.0       128.0             360.0   \n",
       "2           3000.0                0.0        66.0             360.0   \n",
       "\n",
       "   Credit_History Property_Area Loan_Status  \n",
       "0             1.0         Urban           Y  \n",
       "1             1.0         Rural           N  \n",
       "2             1.0         Urban           Y  "
      ]
     },
     "execution_count": 2,
     "metadata": {},
     "output_type": "execute_result"
    }
   ],
   "source": [
    "train.head(3)"
   ]
  },
  {
   "cell_type": "code",
   "execution_count": 3,
   "id": "6481f990",
   "metadata": {},
   "outputs": [
    {
     "data": {
      "text/plain": [
       "(614, 13)"
      ]
     },
     "execution_count": 3,
     "metadata": {},
     "output_type": "execute_result"
    }
   ],
   "source": [
    "train.shape"
   ]
  },
  {
   "cell_type": "code",
   "execution_count": 4,
   "id": "0dd97f03",
   "metadata": {},
   "outputs": [
    {
     "data": {
      "text/plain": [
       "(367, 12)"
      ]
     },
     "execution_count": 4,
     "metadata": {},
     "output_type": "execute_result"
    }
   ],
   "source": [
    "test.shape"
   ]
  },
  {
   "cell_type": "markdown",
   "id": "e3520983",
   "metadata": {},
   "source": [
    "### Missing data treatment"
   ]
  },
  {
   "cell_type": "code",
   "execution_count": 5,
   "id": "e449856a",
   "metadata": {},
   "outputs": [
    {
     "data": {
      "text/plain": [
       "Loan_ID               0\n",
       "Gender               15\n",
       "Married               3\n",
       "Dependents           15\n",
       "Education             1\n",
       "Self_Employed        32\n",
       "ApplicantIncome       2\n",
       "CoapplicantIncome     1\n",
       "LoanAmount           22\n",
       "Loan_Amount_Term     14\n",
       "Credit_History       50\n",
       "Property_Area         0\n",
       "Loan_Status           0\n",
       "dtype: int64"
      ]
     },
     "execution_count": 5,
     "metadata": {},
     "output_type": "execute_result"
    }
   ],
   "source": [
    "train.isna().sum()"
   ]
  },
  {
   "cell_type": "code",
   "execution_count": 6,
   "id": "d6758a26",
   "metadata": {},
   "outputs": [
    {
     "name": "stdout",
     "output_type": "stream",
     "text": [
      "<class 'pandas.core.frame.DataFrame'>\n",
      "RangeIndex: 614 entries, 0 to 613\n",
      "Data columns (total 13 columns):\n",
      " #   Column             Non-Null Count  Dtype  \n",
      "---  ------             --------------  -----  \n",
      " 0   Loan_ID            614 non-null    object \n",
      " 1   Gender             599 non-null    object \n",
      " 2   Married            611 non-null    object \n",
      " 3   Dependents         599 non-null    object \n",
      " 4   Education          613 non-null    object \n",
      " 5   Self_Employed      582 non-null    object \n",
      " 6   ApplicantIncome    612 non-null    float64\n",
      " 7   CoapplicantIncome  613 non-null    float64\n",
      " 8   LoanAmount         592 non-null    float64\n",
      " 9   Loan_Amount_Term   600 non-null    float64\n",
      " 10  Credit_History     564 non-null    float64\n",
      " 11  Property_Area      614 non-null    object \n",
      " 12  Loan_Status        614 non-null    object \n",
      "dtypes: float64(5), object(8)\n",
      "memory usage: 62.5+ KB\n"
     ]
    }
   ],
   "source": [
    "train.info()"
   ]
  },
  {
   "cell_type": "code",
   "execution_count": 7,
   "id": "6c7c3738",
   "metadata": {},
   "outputs": [
    {
     "data": {
      "text/plain": [
       "Loan_ID               0\n",
       "Gender               11\n",
       "Married               0\n",
       "Dependents           10\n",
       "Education             0\n",
       "Self_Employed        23\n",
       "ApplicantIncome       0\n",
       "CoapplicantIncome     0\n",
       "LoanAmount            5\n",
       "Loan_Amount_Term      6\n",
       "Credit_History       29\n",
       "Property_Area         0\n",
       "dtype: int64"
      ]
     },
     "execution_count": 7,
     "metadata": {},
     "output_type": "execute_result"
    }
   ],
   "source": [
    "test.isna().sum()"
   ]
  },
  {
   "cell_type": "code",
   "execution_count": 8,
   "id": "4c4ee7bb",
   "metadata": {},
   "outputs": [],
   "source": [
    "from PM6 import replacer\n",
    "replacer(train)\n",
    "replacer(test)"
   ]
  },
  {
   "cell_type": "code",
   "execution_count": 9,
   "id": "c07bec16",
   "metadata": {},
   "outputs": [
    {
     "data": {
      "text/plain": [
       "Loan_ID              0\n",
       "Gender               0\n",
       "Married              0\n",
       "Dependents           0\n",
       "Education            0\n",
       "Self_Employed        0\n",
       "ApplicantIncome      0\n",
       "CoapplicantIncome    0\n",
       "LoanAmount           0\n",
       "Loan_Amount_Term     0\n",
       "Credit_History       0\n",
       "Property_Area        0\n",
       "Loan_Status          0\n",
       "dtype: int64"
      ]
     },
     "execution_count": 9,
     "metadata": {},
     "output_type": "execute_result"
    }
   ],
   "source": [
    "train.isna().sum()"
   ]
  },
  {
   "cell_type": "code",
   "execution_count": 10,
   "id": "ea38c932",
   "metadata": {},
   "outputs": [
    {
     "data": {
      "text/plain": [
       "Loan_ID              0\n",
       "Gender               0\n",
       "Married              0\n",
       "Dependents           0\n",
       "Education            0\n",
       "Self_Employed        0\n",
       "ApplicantIncome      0\n",
       "CoapplicantIncome    0\n",
       "LoanAmount           0\n",
       "Loan_Amount_Term     0\n",
       "Credit_History       0\n",
       "Property_Area        0\n",
       "dtype: int64"
      ]
     },
     "execution_count": 10,
     "metadata": {},
     "output_type": "execute_result"
    }
   ],
   "source": [
    "test.isna().sum()"
   ]
  },
  {
   "cell_type": "markdown",
   "id": "442b15f3",
   "metadata": {},
   "source": [
    "### Data Analysis"
   ]
  },
  {
   "cell_type": "code",
   "execution_count": 11,
   "id": "f894eff0",
   "metadata": {},
   "outputs": [
    {
     "name": "stdout",
     "output_type": "stream",
     "text": [
      "Male      502\n",
      "Female    112\n",
      "Name: Gender, dtype: int64\n",
      "Yes    401\n",
      "No     213\n",
      "Name: Married, dtype: int64\n",
      "0     360\n",
      "1     102\n",
      "2     101\n",
      "3+     51\n",
      "Name: Dependents, dtype: int64\n",
      "Graduate        480\n",
      "Not Graduate    134\n",
      "Name: Education, dtype: int64\n",
      "No     532\n",
      "Yes     82\n",
      "Name: Self_Employed, dtype: int64\n",
      "Semiurban    233\n",
      "Urban        202\n",
      "Rural        179\n",
      "Name: Property_Area, dtype: int64\n"
     ]
    }
   ],
   "source": [
    "print(train[\"Gender\"].value_counts())\n",
    "print(train[\"Married\"].value_counts())\n",
    "print(train[\"Dependents\"].value_counts())\n",
    "print(train[\"Education\"].value_counts())\n",
    "print(train[\"Self_Employed\"].value_counts())\n",
    "print(train[\"Property_Area\"].value_counts())"
   ]
  },
  {
   "cell_type": "code",
   "execution_count": 12,
   "id": "315de53f",
   "metadata": {
    "scrolled": true
   },
   "outputs": [],
   "source": [
    "train = train.replace(to_replace = '3+',value = 4)\n",
    "#train.head(10)"
   ]
  },
  {
   "cell_type": "code",
   "execution_count": 13,
   "id": "bde2155e",
   "metadata": {},
   "outputs": [],
   "source": [
    "test = test.replace(to_replace = '3+',value = 4)\n",
    "#test.head(10)"
   ]
  },
  {
   "cell_type": "code",
   "execution_count": 14,
   "id": "1341eec1",
   "metadata": {},
   "outputs": [
    {
     "data": {
      "image/png": "[encoded data removed]",
      "text/plain": [
       "<Figure size 864x576 with 4 Axes>"
      ]
     },
     "metadata": {
      "needs_background": "light"
     },
     "output_type": "display_data"
    }
   ],
   "source": [
    "from warnings import filterwarnings\n",
    "filterwarnings(\"ignore\")\n",
    "import seaborn as sb\n",
    "import matplotlib.pyplot as plt\n",
    "\n",
    "plt.figure(figsize=(12,8))\n",
    "\n",
    "plt.subplot(2,2,1)\n",
    "sb.countplot(x=\"Gender\",hue=\"Loan_Status\",data=train);\n",
    "\n",
    "plt.subplot(2,2,2)\n",
    "sb.countplot(x=\"Married\",hue=\"Loan_Status\",data=train);\n",
    "\n",
    "plt.subplot(2,2,3)\n",
    "sb.countplot(x=\"Dependents\",hue=\"Loan_Status\",data=train);\n",
    "\n",
    "plt.subplot(2,2,4)\n",
    "sb.countplot(x=\"Education\",hue=\"Education\",data=train);"
   ]
  },
  {
   "cell_type": "markdown",
   "id": "2e894a38",
   "metadata": {},
   "source": [
    "1. Chance of getting loan approved for male is higher than female\n",
    "2. Chance of getting loan approved for married person is higher than unmarried\n",
    "3. Chance of getting loan approved for person having 0 dependents is higher \n",
    "4. Chance of getting loan approved for gruduate person is higher than ungraduate"
   ]
  },
  {
   "cell_type": "markdown",
   "id": "8c33109b",
   "metadata": {},
   "source": [
    "### Check if customer is eligible for loan or not"
   ]
  },
  {
   "cell_type": "markdown",
   "id": "b76b1b31",
   "metadata": {},
   "source": [
    "### Define X and Y"
   ]
  },
  {
   "cell_type": "code",
   "execution_count": 15,
   "id": "6cc90471",
   "metadata": {},
   "outputs": [],
   "source": [
    "Y = train[[\"Loan_Status\"]]\n",
    "X = train.drop(labels=[\"Loan_ID\",\"Loan_Status\"],axis=1)          #Loan_ID is statistically unimportant"
   ]
  },
  {
   "cell_type": "markdown",
   "id": "fc047723",
   "metadata": {},
   "source": [
    "### EDA"
   ]
  },
  {
   "cell_type": "code",
   "execution_count": 16,
   "id": "f8236fab",
   "metadata": {},
   "outputs": [],
   "source": [
    "#Seperating categorical and continuous data\n",
    "from PM6 import catconsep\n",
    "cat,con =catconsep(X)"
   ]
  },
  {
   "cell_type": "code",
   "execution_count": 17,
   "id": "05fb08b8",
   "metadata": {},
   "outputs": [
    {
     "data": {
      "text/plain": [
       "['Gender',\n",
       " 'Married',\n",
       " 'Dependents',\n",
       " 'Education',\n",
       " 'Self_Employed',\n",
       " 'Property_Area']"
      ]
     },
     "execution_count": 17,
     "metadata": {},
     "output_type": "execute_result"
    }
   ],
   "source": [
    "cat"
   ]
  },
  {
   "cell_type": "code",
   "execution_count": 18,
   "id": "bea8063a",
   "metadata": {},
   "outputs": [
    {
     "data": {
      "text/plain": [
       "['ApplicantIncome',\n",
       " 'CoapplicantIncome',\n",
       " 'LoanAmount',\n",
       " 'Loan_Amount_Term',\n",
       " 'Credit_History']"
      ]
     },
     "execution_count": 18,
     "metadata": {},
     "output_type": "execute_result"
    }
   ],
   "source": [
    "con"
   ]
  },
  {
   "cell_type": "code",
   "execution_count": 19,
   "id": "f562f812",
   "metadata": {},
   "outputs": [
    {
     "name": "stdout",
     "output_type": "stream",
     "text": [
      "--------------\n",
      "Loan_Status Vs ApplicantIncome\n",
      "p-value: 0.90252\n",
      "--------------\n",
      "Loan_Status Vs CoapplicantIncome\n",
      "p-value: 0.14239\n",
      "--------------\n",
      "Loan_Status Vs LoanAmount\n",
      "p-value: 0.36769\n",
      "--------------\n",
      "Loan_Status Vs Loan_Amount_Term\n",
      "p-value: 0.60396\n",
      "--------------\n",
      "Loan_Status Vs Credit_History\n",
      "p-value: 0.0\n"
     ]
    }
   ],
   "source": [
    "#Y[cat] <---> X[con] --> ANOVA/boxplot\n",
    "#Y[cat] <---> X[cat] --> CHISQ/Countplot with Hue\n",
    "\n",
    "imp_cols = []\n",
    "from PM6 import ANOVA,chisq\n",
    "for i in con:\n",
    "    q = ANOVA(train,\"Loan_Status\",i)\n",
    "    print(\"--------------\")\n",
    "    print(\"Loan_Status Vs\",i)\n",
    "    print(\"p-value:\",q)\n",
    "    if(q<=0.15):                   #None of the columns have p-value<0.05 hence taken as <0.15\n",
    "        imp_cols.append(i)"
   ]
  },
  {
   "cell_type": "code",
   "execution_count": 20,
   "id": "450cc4d9",
   "metadata": {},
   "outputs": [
    {
     "data": {
      "text/plain": [
       "<function PM6.ANOVA(df, cat, con)>"
      ]
     },
     "execution_count": 20,
     "metadata": {},
     "output_type": "execute_result"
    }
   ],
   "source": [
    "ANOVA"
   ]
  },
  {
   "cell_type": "code",
   "execution_count": 21,
   "id": "e74969b5",
   "metadata": {},
   "outputs": [
    {
     "name": "stdout",
     "output_type": "stream",
     "text": [
      "--------------\n",
      "Loan_Status Vs Gender\n",
      "p-value: 0.73915\n",
      "--------------\n",
      "Loan_Status Vs Married\n",
      "p-value: 0.02961\n",
      "--------------\n",
      "Loan_Status Vs Dependents\n",
      "p-value: 0.36887\n",
      "--------------\n",
      "Loan_Status Vs Education\n",
      "p-value: 0.0431\n",
      "--------------\n",
      "Loan_Status Vs Self_Employed\n",
      "p-value: 1.0\n",
      "--------------\n",
      "Loan_Status Vs Property_Area\n",
      "p-value: 0.00214\n"
     ]
    }
   ],
   "source": [
    "for i in cat:\n",
    "    q = chisq(train,\"Loan_Status\",i)\n",
    "    print(\"--------------\")\n",
    "    print(\"Loan_Status Vs\",i)\n",
    "    print(\"p-value:\",q)\n",
    "    if(q<=0.15):                   #None of the columns have p-value<0.05 hence taken as <0.15\n",
    "        imp_cols.append(i)"
   ]
  },
  {
   "cell_type": "code",
   "execution_count": 22,
   "id": "a0ace841",
   "metadata": {},
   "outputs": [
    {
     "data": {
      "text/plain": [
       "<function PM6.chisq(df, cat1, cat2)>"
      ]
     },
     "execution_count": 22,
     "metadata": {},
     "output_type": "execute_result"
    }
   ],
   "source": [
    "chisq"
   ]
  },
  {
   "cell_type": "code",
   "execution_count": 23,
   "id": "74d1b4cf",
   "metadata": {},
   "outputs": [
    {
     "data": {
      "text/plain": [
       "['CoapplicantIncome',\n",
       " 'Credit_History',\n",
       " 'Married',\n",
       " 'Education',\n",
       " 'Property_Area']"
      ]
     },
     "execution_count": 23,
     "metadata": {},
     "output_type": "execute_result"
    }
   ],
   "source": [
    "imp_cols"
   ]
  },
  {
   "cell_type": "markdown",
   "id": "82d3439b",
   "metadata": {},
   "source": [
    "### Preprocessing"
   ]
  },
  {
   "cell_type": "code",
   "execution_count": 24,
   "id": "1c1c2495",
   "metadata": {},
   "outputs": [
    {
     "data": {
      "text/plain": [
       "Dependents           1.456965\n",
       "ApplicantIncome      6.538870\n",
       "CoapplicantIncome    7.492000\n",
       "LoanAmount           2.726601\n",
       "Loan_Amount_Term    -2.389680\n",
       "Credit_History      -1.963600\n",
       "dtype: float64"
      ]
     },
     "execution_count": 24,
     "metadata": {},
     "output_type": "execute_result"
    }
   ],
   "source": [
    "X.skew()"
   ]
  },
  {
   "cell_type": "code",
   "execution_count": 25,
   "id": "83606a06",
   "metadata": {},
   "outputs": [],
   "source": [
    "from numpy import log\n",
    "\n",
    "def skew_rem(df,col):\n",
    "    q = []\n",
    "    for i in df[col]:\n",
    "        if(i != 0):\n",
    "            q.append(log(i))\n",
    "        else:\n",
    "            q.append(i)\n",
    "    df[col] = q"
   ]
  },
  {
   "cell_type": "code",
   "execution_count": 26,
   "id": "e6347c17",
   "metadata": {},
   "outputs": [],
   "source": [
    "skew_rem(X,'ApplicantIncome')\n",
    "skew_rem(X,'CoapplicantIncome')"
   ]
  },
  {
   "cell_type": "code",
   "execution_count": 27,
   "id": "64c6dad8",
   "metadata": {},
   "outputs": [
    {
     "data": {
      "text/plain": [
       "Dependents           1.456965\n",
       "ApplicantIncome      0.477562\n",
       "CoapplicantIncome   -0.172920\n",
       "LoanAmount           2.726601\n",
       "Loan_Amount_Term    -2.389680\n",
       "Credit_History      -1.963600\n",
       "dtype: float64"
      ]
     },
     "execution_count": 27,
     "metadata": {},
     "output_type": "execute_result"
    }
   ],
   "source": [
    "X.skew()"
   ]
  },
  {
   "cell_type": "code",
   "execution_count": 28,
   "id": "240ea71c",
   "metadata": {},
   "outputs": [],
   "source": [
    "from PM6 import preprocessing\n",
    "Xnew = preprocessing(X[imp_cols])"
   ]
  },
  {
   "cell_type": "code",
   "execution_count": 29,
   "id": "b6139cca",
   "metadata": {},
   "outputs": [
    {
     "data": {
      "text/html": [
       "<div>\n",
       "<style scoped>\n",
       "    .dataframe tbody tr th:only-of-type {\n",
       "        vertical-align: middle;\n",
       "    }\n",
       "\n",
       "    .dataframe tbody tr th {\n",
       "        vertical-align: top;\n",
       "    }\n",
       "\n",
       "    .dataframe thead th {\n",
       "        text-align: right;\n",
       "    }\n",
       "</style>\n",
       "<table border=\"1\" class=\"dataframe\">\n",
       "  <thead>\n",
       "    <tr style=\"text-align: right;\">\n",
       "      <th></th>\n",
       "      <th>CoapplicantIncome</th>\n",
       "      <th>Credit_History</th>\n",
       "      <th>Married_No</th>\n",
       "      <th>Married_Yes</th>\n",
       "      <th>Education_Graduate</th>\n",
       "      <th>Education_Not Graduate</th>\n",
       "      <th>Property_Area_Rural</th>\n",
       "      <th>Property_Area_Semiurban</th>\n",
       "      <th>Property_Area_Urban</th>\n",
       "    </tr>\n",
       "  </thead>\n",
       "  <tbody>\n",
       "    <tr>\n",
       "      <th>0</th>\n",
       "      <td>-1.107731</td>\n",
       "      <td>0.45164</td>\n",
       "      <td>1</td>\n",
       "      <td>0</td>\n",
       "      <td>1</td>\n",
       "      <td>0</td>\n",
       "      <td>0</td>\n",
       "      <td>0</td>\n",
       "      <td>1</td>\n",
       "    </tr>\n",
       "    <tr>\n",
       "      <th>1</th>\n",
       "      <td>0.782215</td>\n",
       "      <td>0.45164</td>\n",
       "      <td>0</td>\n",
       "      <td>1</td>\n",
       "      <td>1</td>\n",
       "      <td>0</td>\n",
       "      <td>1</td>\n",
       "      <td>0</td>\n",
       "      <td>0</td>\n",
       "    </tr>\n",
       "    <tr>\n",
       "      <th>2</th>\n",
       "      <td>-1.107731</td>\n",
       "      <td>0.45164</td>\n",
       "      <td>0</td>\n",
       "      <td>1</td>\n",
       "      <td>1</td>\n",
       "      <td>0</td>\n",
       "      <td>0</td>\n",
       "      <td>0</td>\n",
       "      <td>1</td>\n",
       "    </tr>\n",
       "  </tbody>\n",
       "</table>\n",
       "</div>"
      ],
      "text/plain": [
       "   CoapplicantIncome  Credit_History  Married_No  Married_Yes  \\\n",
       "0          -1.107731         0.45164           1            0   \n",
       "1           0.782215         0.45164           0            1   \n",
       "2          -1.107731         0.45164           0            1   \n",
       "\n",
       "   Education_Graduate  Education_Not Graduate  Property_Area_Rural  \\\n",
       "0                   1                       0                    0   \n",
       "1                   1                       0                    1   \n",
       "2                   1                       0                    0   \n",
       "\n",
       "   Property_Area_Semiurban  Property_Area_Urban  \n",
       "0                        0                    1  \n",
       "1                        0                    0  \n",
       "2                        0                    1  "
      ]
     },
     "execution_count": 29,
     "metadata": {},
     "output_type": "execute_result"
    }
   ],
   "source": [
    "Xnew.head(3)"
   ]
  },
  {
   "cell_type": "markdown",
   "id": "9be4c726",
   "metadata": {},
   "source": [
    "### Splitting data into training and testing dataset"
   ]
  },
  {
   "cell_type": "code",
   "execution_count": 30,
   "id": "34b4bbf7",
   "metadata": {},
   "outputs": [],
   "source": [
    "from sklearn.model_selection import train_test_split\n",
    "xtrain,xtest,ytrain,ytest = train_test_split(Xnew,Y,test_size=0.2,random_state=21)"
   ]
  },
  {
   "cell_type": "markdown",
   "id": "6d756c03",
   "metadata": {},
   "source": [
    "### Logistic Regression"
   ]
  },
  {
   "cell_type": "code",
   "execution_count": 31,
   "id": "e0f3082d",
   "metadata": {},
   "outputs": [],
   "source": [
    "from sklearn.linear_model import LogisticRegression\n",
    "lr = LogisticRegression()\n",
    "model = lr.fit(xtrain,ytrain)\n",
    "\n",
    "pred_tr = model.predict(xtrain)\n",
    "pred_ts = model.predict(xtest)\n",
    "\n",
    "from sklearn.metrics import accuracy_score\n",
    "tr_acc = accuracy_score(ytrain,pred_tr)\n",
    "ts_acc = accuracy_score(ytest,pred_ts)"
   ]
  },
  {
   "cell_type": "code",
   "execution_count": 32,
   "id": "0fbcb718",
   "metadata": {},
   "outputs": [
    {
     "data": {
      "text/plain": [
       "0.8044806517311609"
      ]
     },
     "execution_count": 32,
     "metadata": {},
     "output_type": "execute_result"
    }
   ],
   "source": [
    "tr_acc"
   ]
  },
  {
   "cell_type": "code",
   "execution_count": 33,
   "id": "9ab8e41f",
   "metadata": {},
   "outputs": [
    {
     "data": {
      "text/plain": [
       "0.8130081300813008"
      ]
     },
     "execution_count": 33,
     "metadata": {},
     "output_type": "execute_result"
    }
   ],
   "source": [
    "ts_acc"
   ]
  },
  {
   "cell_type": "markdown",
   "id": "e451681c",
   "metadata": {},
   "source": [
    "### Decision Tree Classifier"
   ]
  },
  {
   "cell_type": "code",
   "execution_count": 34,
   "id": "e9fd75d9",
   "metadata": {},
   "outputs": [],
   "source": [
    "X = train.drop(labels=[\"Loan_ID\",\"Loan_Status\"],axis=1)\n",
    "Xnew = preprocessing(X)\n",
    "\n",
    "from sklearn.model_selection import train_test_split\n",
    "xtrain,xtest,ytrain,ytest=train_test_split(Xnew,Y,test_size=0.2,random_state=21)\n",
    "\n",
    "from sklearn.tree import DecisionTreeClassifier\n",
    "dtc = DecisionTreeClassifier()\n",
    "model = dtc.fit(xtrain,ytrain)\n",
    "\n",
    "pred_tr = model.predict(xtrain)\n",
    "pred_ts = model.predict(xtest)\n",
    "\n",
    "from sklearn.metrics import accuracy_score\n",
    "tr_acc = accuracy_score(ytrain,pred_tr)\n",
    "ts_acc = accuracy_score(ytest,pred_ts)"
   ]
  },
  {
   "cell_type": "code",
   "execution_count": 35,
   "id": "054fd037",
   "metadata": {},
   "outputs": [
    {
     "data": {
      "text/plain": [
       "1.0"
      ]
     },
     "execution_count": 35,
     "metadata": {},
     "output_type": "execute_result"
    }
   ],
   "source": [
    "tr_acc"
   ]
  },
  {
   "cell_type": "code",
   "execution_count": 36,
   "id": "b543246f",
   "metadata": {},
   "outputs": [
    {
     "data": {
      "text/plain": [
       "0.6910569105691057"
      ]
     },
     "execution_count": 36,
     "metadata": {},
     "output_type": "execute_result"
    }
   ],
   "source": [
    "ts_acc"
   ]
  },
  {
   "cell_type": "code",
   "execution_count": 37,
   "id": "851bc426",
   "metadata": {},
   "outputs": [
    {
     "data": {
      "text/plain": [
       "{'max_depth': 1}"
      ]
     },
     "execution_count": 37,
     "metadata": {},
     "output_type": "execute_result"
    }
   ],
   "source": [
    "from sklearn.model_selection import GridSearchCV\n",
    "dtc = DecisionTreeClassifier(random_state=21)\n",
    "tg = {\"max_depth\":range(1,30,1)}\n",
    "cv = GridSearchCV(dtc,tg,scoring=\"recall\",cv=4)\n",
    "cvmodel = cv.fit(Xnew,Y)\n",
    "cvmodel.best_params_"
   ]
  },
  {
   "cell_type": "code",
   "execution_count": 38,
   "id": "c46381d6",
   "metadata": {},
   "outputs": [
    {
     "data": {
      "text/plain": [
       "{'min_samples_leaf': 1}"
      ]
     },
     "execution_count": 38,
     "metadata": {},
     "output_type": "execute_result"
    }
   ],
   "source": [
    "from sklearn.model_selection import GridSearchCV\n",
    "dtc = DecisionTreeClassifier(random_state=21)\n",
    "tg = {\"min_samples_leaf\":range(1,30,1)}\n",
    "cv = GridSearchCV(dtc,tg,scoring=\"recall\",cv=4)\n",
    "cvmodel = cv.fit(Xnew,Y)\n",
    "cvmodel.best_params_"
   ]
  },
  {
   "cell_type": "code",
   "execution_count": 39,
   "id": "c6f4e1d5",
   "metadata": {},
   "outputs": [
    {
     "name": "stdout",
     "output_type": "stream",
     "text": [
      "training Recall  0.9881305637982196\n",
      "testing Recall:  0.9647058823529412\n"
     ]
    }
   ],
   "source": [
    "from sklearn.tree import DecisionTreeClassifier\n",
    "dtc = DecisionTreeClassifier(random_state=21,max_depth=2)\n",
    "model = dtc.fit(xtrain,ytrain)\n",
    "pred_ts = model.predict(xtest)\n",
    "pred_tr = model.predict(xtrain)\n",
    "from sklearn.metrics import recall_score\n",
    "print(\"training Recall \",recall_score(ytrain,pred_tr,pos_label=\"Y\"))\n",
    "print(\"testing Recall: \",recall_score(ytest,pred_ts,pos_label=\"Y\"))"
   ]
  },
  {
   "cell_type": "code",
   "execution_count": 40,
   "id": "035a3560",
   "metadata": {},
   "outputs": [
    {
     "name": "stdout",
     "output_type": "stream",
     "text": [
      "training CM  [[ 67  87]\n",
      " [  4 333]]\n",
      "testing CM:  [[19 19]\n",
      " [ 3 82]]\n"
     ]
    }
   ],
   "source": [
    "from sklearn.metrics import confusion_matrix\n",
    "print(\"training CM \",confusion_matrix(ytrain,pred_tr))\n",
    "print(\"testing CM: \",confusion_matrix(ytest,pred_ts))"
   ]
  },
  {
   "cell_type": "markdown",
   "id": "e49555fc",
   "metadata": {},
   "source": [
    "### Adaboost"
   ]
  },
  {
   "cell_type": "code",
   "execution_count": 41,
   "id": "a0096540",
   "metadata": {},
   "outputs": [
    {
     "name": "stdout",
     "output_type": "stream",
     "text": [
      "0.9063136456211812\n",
      "0.7073170731707317\n"
     ]
    }
   ],
   "source": [
    "from sklearn.ensemble import AdaBoostClassifier\n",
    "abc = AdaBoostClassifier(DecisionTreeClassifier(random_state=21,max_depth=2),n_estimators=30)\n",
    "model = abc.fit(xtrain,ytrain)\n",
    "pred_ts = model.predict(xtest)\n",
    "pred_tr = model.predict(xtrain)\n",
    "from sklearn.metrics import accuracy_score\n",
    "tr_acc = accuracy_score(ytrain,pred_tr)\n",
    "ts_acc = accuracy_score(ytest,pred_ts)\n",
    "print(tr_acc)\n",
    "print(ts_acc)"
   ]
  },
  {
   "cell_type": "code",
   "execution_count": 42,
   "id": "a0deddff",
   "metadata": {},
   "outputs": [
    {
     "data": {
      "text/plain": [
       "{'n_estimators': 2}"
      ]
     },
     "execution_count": 42,
     "metadata": {},
     "output_type": "execute_result"
    }
   ],
   "source": [
    "from sklearn.model_selection import GridSearchCV\n",
    "abc = AdaBoostClassifier(DecisionTreeClassifier(random_state=21,max_depth=2),n_estimators=30)\n",
    "tg = {\"n_estimators\":range(2,50,1)}\n",
    "cv = GridSearchCV(abc,tg,scoring=\"recall\",cv=4)\n",
    "cvmodel = cv.fit(Xnew,Y)\n",
    "cvmodel.best_params_"
   ]
  },
  {
   "cell_type": "code",
   "execution_count": 43,
   "id": "f930d1d4",
   "metadata": {},
   "outputs": [
    {
     "name": "stdout",
     "output_type": "stream",
     "text": [
      "0.814663951120163\n",
      "0.8211382113821138\n"
     ]
    }
   ],
   "source": [
    "from sklearn.ensemble import AdaBoostClassifier\n",
    "abc = AdaBoostClassifier(DecisionTreeClassifier(random_state=21,max_depth=2),n_estimators=2)\n",
    "model = abc.fit(xtrain,ytrain)\n",
    "pred_ts = model.predict(xtest)\n",
    "pred_tr = model.predict(xtrain)\n",
    "from sklearn.metrics import accuracy_score\n",
    "tr_acc = accuracy_score(ytrain,pred_tr)\n",
    "ts_acc = accuracy_score(ytest,pred_ts)\n",
    "print(tr_acc)\n",
    "print(ts_acc)"
   ]
  },
  {
   "cell_type": "code",
   "execution_count": 44,
   "id": "03ed377d",
   "metadata": {},
   "outputs": [
    {
     "data": {
      "text/plain": [
       "Index(['ApplicantIncome', 'CoapplicantIncome', 'LoanAmount',\n",
       "       'Loan_Amount_Term', 'Credit_History', 'Gender_Female', 'Gender_Male',\n",
       "       'Married_No', 'Married_Yes', 'Dependents_4', 'Dependents_0',\n",
       "       'Dependents_1', 'Dependents_2', 'Education_Graduate',\n",
       "       'Education_Not Graduate', 'Self_Employed_No', 'Self_Employed_Yes',\n",
       "       'Property_Area_Rural', 'Property_Area_Semiurban',\n",
       "       'Property_Area_Urban'],\n",
       "      dtype='object')"
      ]
     },
     "execution_count": 44,
     "metadata": {},
     "output_type": "execute_result"
    }
   ],
   "source": [
    "xtrain.columns"
   ]
  },
  {
   "cell_type": "markdown",
   "id": "fee4adfa",
   "metadata": {},
   "source": [
    "### Make predictions using best model"
   ]
  },
  {
   "cell_type": "code",
   "execution_count": 51,
   "id": "f82261ad",
   "metadata": {},
   "outputs": [],
   "source": [
    "dtc = DecisionTreeClassifier(random_state=21,max_depth=2)\n",
    "model = dtc.fit(Xnew,Y)"
   ]
  },
  {
   "cell_type": "code",
   "execution_count": 52,
   "id": "6843f8f4",
   "metadata": {},
   "outputs": [
    {
     "data": {
      "text/html": [
       "<div>\n",
       "<style scoped>\n",
       "    .dataframe tbody tr th:only-of-type {\n",
       "        vertical-align: middle;\n",
       "    }\n",
       "\n",
       "    .dataframe tbody tr th {\n",
       "        vertical-align: top;\n",
       "    }\n",
       "\n",
       "    .dataframe thead th {\n",
       "        text-align: right;\n",
       "    }\n",
       "</style>\n",
       "<table border=\"1\" class=\"dataframe\">\n",
       "  <thead>\n",
       "    <tr style=\"text-align: right;\">\n",
       "      <th></th>\n",
       "      <th>ApplicantIncome</th>\n",
       "      <th>CoapplicantIncome</th>\n",
       "      <th>LoanAmount</th>\n",
       "      <th>Loan_Amount_Term</th>\n",
       "      <th>Credit_History</th>\n",
       "      <th>Gender_Female</th>\n",
       "      <th>Gender_Male</th>\n",
       "      <th>Married_No</th>\n",
       "      <th>Married_Yes</th>\n",
       "      <th>Dependents_4</th>\n",
       "      <th>Dependents_0</th>\n",
       "      <th>Dependents_1</th>\n",
       "      <th>Dependents_2</th>\n",
       "      <th>Education_Graduate</th>\n",
       "      <th>Education_Not Graduate</th>\n",
       "      <th>Self_Employed_No</th>\n",
       "      <th>Self_Employed_Yes</th>\n",
       "      <th>Property_Area_Rural</th>\n",
       "      <th>Property_Area_Semiurban</th>\n",
       "      <th>Property_Area_Urban</th>\n",
       "    </tr>\n",
       "  </thead>\n",
       "  <tbody>\n",
       "    <tr>\n",
       "      <th>0</th>\n",
       "      <td>0.186461</td>\n",
       "      <td>-0.673335</td>\n",
       "      <td>-0.429368</td>\n",
       "      <td>0.270603</td>\n",
       "      <td>0.47918</td>\n",
       "      <td>0</td>\n",
       "      <td>1</td>\n",
       "      <td>0</td>\n",
       "      <td>1</td>\n",
       "      <td>0</td>\n",
       "      <td>1</td>\n",
       "      <td>0</td>\n",
       "      <td>0</td>\n",
       "      <td>1</td>\n",
       "      <td>0</td>\n",
       "      <td>1</td>\n",
       "      <td>0</td>\n",
       "      <td>0</td>\n",
       "      <td>0</td>\n",
       "      <td>1</td>\n",
       "    </tr>\n",
       "    <tr>\n",
       "      <th>1</th>\n",
       "      <td>-0.352692</td>\n",
       "      <td>-0.029848</td>\n",
       "      <td>-0.166482</td>\n",
       "      <td>0.270603</td>\n",
       "      <td>0.47918</td>\n",
       "      <td>0</td>\n",
       "      <td>1</td>\n",
       "      <td>0</td>\n",
       "      <td>1</td>\n",
       "      <td>0</td>\n",
       "      <td>0</td>\n",
       "      <td>1</td>\n",
       "      <td>0</td>\n",
       "      <td>1</td>\n",
       "      <td>0</td>\n",
       "      <td>1</td>\n",
       "      <td>0</td>\n",
       "      <td>0</td>\n",
       "      <td>0</td>\n",
       "      <td>1</td>\n",
       "    </tr>\n",
       "    <tr>\n",
       "      <th>2</th>\n",
       "      <td>0.039641</td>\n",
       "      <td>0.098849</td>\n",
       "      <td>1.180807</td>\n",
       "      <td>0.270603</td>\n",
       "      <td>0.47918</td>\n",
       "      <td>0</td>\n",
       "      <td>1</td>\n",
       "      <td>0</td>\n",
       "      <td>1</td>\n",
       "      <td>0</td>\n",
       "      <td>0</td>\n",
       "      <td>0</td>\n",
       "      <td>1</td>\n",
       "      <td>1</td>\n",
       "      <td>0</td>\n",
       "      <td>1</td>\n",
       "      <td>0</td>\n",
       "      <td>0</td>\n",
       "      <td>0</td>\n",
       "      <td>1</td>\n",
       "    </tr>\n",
       "  </tbody>\n",
       "</table>\n",
       "</div>"
      ],
      "text/plain": [
       "   ApplicantIncome  CoapplicantIncome  LoanAmount  Loan_Amount_Term  \\\n",
       "0         0.186461          -0.673335   -0.429368          0.270603   \n",
       "1        -0.352692          -0.029848   -0.166482          0.270603   \n",
       "2         0.039641           0.098849    1.180807          0.270603   \n",
       "\n",
       "   Credit_History  Gender_Female  Gender_Male  Married_No  Married_Yes  \\\n",
       "0         0.47918              0            1           0            1   \n",
       "1         0.47918              0            1           0            1   \n",
       "2         0.47918              0            1           0            1   \n",
       "\n",
       "   Dependents_4  Dependents_0  Dependents_1  Dependents_2  Education_Graduate  \\\n",
       "0             0             1             0             0                   1   \n",
       "1             0             0             1             0                   1   \n",
       "2             0             0             0             1                   1   \n",
       "\n",
       "   Education_Not Graduate  Self_Employed_No  Self_Employed_Yes  \\\n",
       "0                       0                 1                  0   \n",
       "1                       0                 1                  0   \n",
       "2                       0                 1                  0   \n",
       "\n",
       "   Property_Area_Rural  Property_Area_Semiurban  Property_Area_Urban  \n",
       "0                    0                        0                    1  \n",
       "1                    0                        0                    1  \n",
       "2                    0                        0                    1  "
      ]
     },
     "execution_count": 52,
     "metadata": {},
     "output_type": "execute_result"
    }
   ],
   "source": [
    "from PM6 import preprocessing\n",
    "test_new=test.drop(labels=[\"Loan_ID\"],axis=1)\n",
    "test_new=preprocessing(test_new)\n",
    "test_new.head(3)"
   ]
  },
  {
   "cell_type": "code",
   "execution_count": 53,
   "id": "9f2f7d77",
   "metadata": {},
   "outputs": [
    {
     "data": {
      "text/plain": [
       "(367, 20)"
      ]
     },
     "execution_count": 53,
     "metadata": {},
     "output_type": "execute_result"
    }
   ],
   "source": [
    "test_new.shape"
   ]
  },
  {
   "cell_type": "code",
   "execution_count": 54,
   "id": "7415715e",
   "metadata": {},
   "outputs": [],
   "source": [
    "pred = model.predict(test_new)"
   ]
  },
  {
   "cell_type": "code",
   "execution_count": 55,
   "id": "2d6d3e05",
   "metadata": {},
   "outputs": [],
   "source": [
    "test[\"pred_loan_status\"] = pred"
   ]
  },
  {
   "cell_type": "code",
   "execution_count": 56,
   "id": "867d4db7",
   "metadata": {},
   "outputs": [],
   "source": [
    "pred_loan_status = test[[\"Loan_ID\"]]\n",
    "pred_loan_status[\"Loan_Status\"] = pred\n",
    "pred_loan_status.to_csv(\"C:/Users/HP/Desktop/ETLHive/Project 3/submission.csv\",index=False)"
   ]
  },
  {
   "cell_type": "code",
   "execution_count": 57,
   "id": "508ff358",
   "metadata": {},
   "outputs": [
    {
     "data": {
      "text/html": [
       "<div>\n",
       "<style scoped>\n",
       "    .dataframe tbody tr th:only-of-type {\n",
       "        vertical-align: middle;\n",
       "    }\n",
       "\n",
       "    .dataframe tbody tr th {\n",
       "        vertical-align: top;\n",
       "    }\n",
       "\n",
       "    .dataframe thead th {\n",
       "        text-align: right;\n",
       "    }\n",
       "</style>\n",
       "<table border=\"1\" class=\"dataframe\">\n",
       "  <thead>\n",
       "    <tr style=\"text-align: right;\">\n",
       "      <th></th>\n",
       "      <th>Loan_ID</th>\n",
       "      <th>Loan_Status</th>\n",
       "    </tr>\n",
       "  </thead>\n",
       "  <tbody>\n",
       "    <tr>\n",
       "      <th>0</th>\n",
       "      <td>LP001015</td>\n",
       "      <td>Y</td>\n",
       "    </tr>\n",
       "    <tr>\n",
       "      <th>1</th>\n",
       "      <td>LP001022</td>\n",
       "      <td>Y</td>\n",
       "    </tr>\n",
       "    <tr>\n",
       "      <th>2</th>\n",
       "      <td>LP001031</td>\n",
       "      <td>Y</td>\n",
       "    </tr>\n",
       "    <tr>\n",
       "      <th>3</th>\n",
       "      <td>LP001035</td>\n",
       "      <td>Y</td>\n",
       "    </tr>\n",
       "    <tr>\n",
       "      <th>4</th>\n",
       "      <td>LP001051</td>\n",
       "      <td>Y</td>\n",
       "    </tr>\n",
       "    <tr>\n",
       "      <th>...</th>\n",
       "      <td>...</td>\n",
       "      <td>...</td>\n",
       "    </tr>\n",
       "    <tr>\n",
       "      <th>362</th>\n",
       "      <td>LP002971</td>\n",
       "      <td>Y</td>\n",
       "    </tr>\n",
       "    <tr>\n",
       "      <th>363</th>\n",
       "      <td>LP002975</td>\n",
       "      <td>Y</td>\n",
       "    </tr>\n",
       "    <tr>\n",
       "      <th>364</th>\n",
       "      <td>LP002980</td>\n",
       "      <td>Y</td>\n",
       "    </tr>\n",
       "    <tr>\n",
       "      <th>365</th>\n",
       "      <td>LP002986</td>\n",
       "      <td>Y</td>\n",
       "    </tr>\n",
       "    <tr>\n",
       "      <th>366</th>\n",
       "      <td>LP002989</td>\n",
       "      <td>Y</td>\n",
       "    </tr>\n",
       "  </tbody>\n",
       "</table>\n",
       "<p>367 rows × 2 columns</p>\n",
       "</div>"
      ],
      "text/plain": [
       "      Loan_ID Loan_Status\n",
       "0    LP001015           Y\n",
       "1    LP001022           Y\n",
       "2    LP001031           Y\n",
       "3    LP001035           Y\n",
       "4    LP001051           Y\n",
       "..        ...         ...\n",
       "362  LP002971           Y\n",
       "363  LP002975           Y\n",
       "364  LP002980           Y\n",
       "365  LP002986           Y\n",
       "366  LP002989           Y\n",
       "\n",
       "[367 rows x 2 columns]"
      ]
     },
     "execution_count": 57,
     "metadata": {},
     "output_type": "execute_result"
    }
   ],
   "source": [
    "pred_loan_status"
   ]
  },
  {
   "cell_type": "code",
   "execution_count": 58,
   "id": "84ae7443",
   "metadata": {},
   "outputs": [
    {
     "data": {
      "text/html": [
       "<div>\n",
       "<style scoped>\n",
       "    .dataframe tbody tr th:only-of-type {\n",
       "        vertical-align: middle;\n",
       "    }\n",
       "\n",
       "    .dataframe tbody tr th {\n",
       "        vertical-align: top;\n",
       "    }\n",
       "\n",
       "    .dataframe thead th {\n",
       "        text-align: right;\n",
       "    }\n",
       "</style>\n",
       "<table border=\"1\" class=\"dataframe\">\n",
       "  <thead>\n",
       "    <tr style=\"text-align: right;\">\n",
       "      <th></th>\n",
       "      <th>0</th>\n",
       "      <th>1</th>\n",
       "    </tr>\n",
       "  </thead>\n",
       "  <tbody>\n",
       "    <tr>\n",
       "      <th>0</th>\n",
       "      <td>Gender</td>\n",
       "      <td>0.0</td>\n",
       "    </tr>\n",
       "    <tr>\n",
       "      <th>1</th>\n",
       "      <td>Married</td>\n",
       "      <td>0.042743</td>\n",
       "    </tr>\n",
       "    <tr>\n",
       "      <th>2</th>\n",
       "      <td>Dependents</td>\n",
       "      <td>0.020849</td>\n",
       "    </tr>\n",
       "    <tr>\n",
       "      <th>3</th>\n",
       "      <td>Education</td>\n",
       "      <td>0.0</td>\n",
       "    </tr>\n",
       "    <tr>\n",
       "      <th>4</th>\n",
       "      <td>Self_Employed</td>\n",
       "      <td>0.936407</td>\n",
       "    </tr>\n",
       "    <tr>\n",
       "      <th>5</th>\n",
       "      <td>ApplicantIncome</td>\n",
       "      <td>0.0</td>\n",
       "    </tr>\n",
       "    <tr>\n",
       "      <th>6</th>\n",
       "      <td>CoapplicantIncome</td>\n",
       "      <td>0.0</td>\n",
       "    </tr>\n",
       "    <tr>\n",
       "      <th>7</th>\n",
       "      <td>LoanAmount</td>\n",
       "      <td>0.0</td>\n",
       "    </tr>\n",
       "    <tr>\n",
       "      <th>8</th>\n",
       "      <td>Loan_Amount_Term</td>\n",
       "      <td>0.0</td>\n",
       "    </tr>\n",
       "    <tr>\n",
       "      <th>9</th>\n",
       "      <td>Credit_History</td>\n",
       "      <td>0.0</td>\n",
       "    </tr>\n",
       "    <tr>\n",
       "      <th>10</th>\n",
       "      <td>Property_Area</td>\n",
       "      <td>0.0</td>\n",
       "    </tr>\n",
       "    <tr>\n",
       "      <th>11</th>\n",
       "      <td>NaN</td>\n",
       "      <td>0.0</td>\n",
       "    </tr>\n",
       "    <tr>\n",
       "      <th>12</th>\n",
       "      <td>NaN</td>\n",
       "      <td>0.0</td>\n",
       "    </tr>\n",
       "    <tr>\n",
       "      <th>13</th>\n",
       "      <td>NaN</td>\n",
       "      <td>0.0</td>\n",
       "    </tr>\n",
       "    <tr>\n",
       "      <th>14</th>\n",
       "      <td>NaN</td>\n",
       "      <td>0.0</td>\n",
       "    </tr>\n",
       "    <tr>\n",
       "      <th>15</th>\n",
       "      <td>NaN</td>\n",
       "      <td>0.0</td>\n",
       "    </tr>\n",
       "    <tr>\n",
       "      <th>16</th>\n",
       "      <td>NaN</td>\n",
       "      <td>0.0</td>\n",
       "    </tr>\n",
       "    <tr>\n",
       "      <th>17</th>\n",
       "      <td>NaN</td>\n",
       "      <td>0.0</td>\n",
       "    </tr>\n",
       "    <tr>\n",
       "      <th>18</th>\n",
       "      <td>NaN</td>\n",
       "      <td>0.0</td>\n",
       "    </tr>\n",
       "    <tr>\n",
       "      <th>19</th>\n",
       "      <td>NaN</td>\n",
       "      <td>0.0</td>\n",
       "    </tr>\n",
       "  </tbody>\n",
       "</table>\n",
       "</div>"
      ],
      "text/plain": [
       "                    0         1\n",
       "0              Gender       0.0\n",
       "1             Married  0.042743\n",
       "2          Dependents  0.020849\n",
       "3           Education       0.0\n",
       "4       Self_Employed  0.936407\n",
       "5     ApplicantIncome       0.0\n",
       "6   CoapplicantIncome       0.0\n",
       "7          LoanAmount       0.0\n",
       "8    Loan_Amount_Term       0.0\n",
       "9      Credit_History       0.0\n",
       "10      Property_Area       0.0\n",
       "11                NaN       0.0\n",
       "12                NaN       0.0\n",
       "13                NaN       0.0\n",
       "14                NaN       0.0\n",
       "15                NaN       0.0\n",
       "16                NaN       0.0\n",
       "17                NaN       0.0\n",
       "18                NaN       0.0\n",
       "19                NaN       0.0"
      ]
     },
     "execution_count": 58,
     "metadata": {},
     "output_type": "execute_result"
    }
   ],
   "source": [
    "pd.DataFrame([X.columns,dtc.feature_importances_]).T"
   ]
  },
  {
   "cell_type": "markdown",
   "id": "26b68442",
   "metadata": {},
   "source": [
    "### If customer is not eligible for the input required amount and duration what can be amount for the given duration.(Regression)"
   ]
  },
  {
   "cell_type": "code",
   "execution_count": 59,
   "id": "4329742b",
   "metadata": {},
   "outputs": [],
   "source": [
    "T1 = train[train.Loan_Status == \"Y\"]"
   ]
  },
  {
   "cell_type": "code",
   "execution_count": 60,
   "id": "7ce3018a",
   "metadata": {},
   "outputs": [],
   "source": [
    "T2 = test[test.pred_loan_status == \"Y\"]"
   ]
  },
  {
   "cell_type": "code",
   "execution_count": 61,
   "id": "cd249342",
   "metadata": {},
   "outputs": [],
   "source": [
    "T2 = T2.rename({\"pred_loan_status\":\"Loan_Status\"},axis=1)"
   ]
  },
  {
   "cell_type": "code",
   "execution_count": 62,
   "id": "c0cbd375",
   "metadata": {},
   "outputs": [],
   "source": [
    "trd = pd.concat([T1,T2])\n",
    "trd = trd.reset_index()"
   ]
  },
  {
   "cell_type": "code",
   "execution_count": 63,
   "id": "9d5d102c",
   "metadata": {},
   "outputs": [],
   "source": [
    "replacer(trd)\n",
    "cat,con=catconsep(trd)"
   ]
  },
  {
   "cell_type": "code",
   "execution_count": 64,
   "id": "db7ffa2a",
   "metadata": {},
   "outputs": [],
   "source": [
    "cat.remove(\"Loan_ID\")\n",
    "con.remove(\"LoanAmount\")\n",
    "cat.remove(\"Loan_Status\")"
   ]
  },
  {
   "cell_type": "code",
   "execution_count": 65,
   "id": "e7a6ce9d",
   "metadata": {},
   "outputs": [],
   "source": [
    "#trd.isna().sum()"
   ]
  },
  {
   "cell_type": "code",
   "execution_count": 66,
   "id": "15ab1a8a",
   "metadata": {},
   "outputs": [],
   "source": [
    "Y = trd[[\"LoanAmount\"]]\n",
    "X = trd.drop(labels=[\"Loan_ID\",\"LoanAmount\",\"Loan_Status\"],axis=1)"
   ]
  },
  {
   "cell_type": "code",
   "execution_count": 67,
   "id": "4cd8755a",
   "metadata": {},
   "outputs": [],
   "source": [
    "Xnew = preprocessing(X)"
   ]
  },
  {
   "cell_type": "code",
   "execution_count": 68,
   "id": "91d1e101",
   "metadata": {},
   "outputs": [
    {
     "name": "stdout",
     "output_type": "stream",
     "text": [
      "ANOVA\n",
      "Relation between LoanAmount and  Gender\n",
      "0.04047\n",
      "ANOVA\n",
      "Relation between LoanAmount and  Married\n",
      "0.0021\n",
      "ANOVA\n",
      "Relation between LoanAmount and  Dependents\n",
      "0.00242\n",
      "ANOVA\n",
      "Relation between LoanAmount and  Education\n",
      "0.00097\n",
      "ANOVA\n",
      "Relation between LoanAmount and  Self_Employed\n",
      "0.00126\n",
      "ANOVA\n",
      "Relation between LoanAmount and  Property_Area\n",
      "0.85571\n"
     ]
    }
   ],
   "source": [
    "#Checking correlation between con and cat values\n",
    "\n",
    "from PM6 import ANOVA\n",
    "for i in X.columns:\n",
    "    if(X[i].dtypes=='object'):\n",
    "        print(\"ANOVA\")\n",
    "        print(\"Relation between LoanAmount and \",i)\n",
    "        print(ANOVA(T1,i,'LoanAmount'))"
   ]
  },
  {
   "cell_type": "code",
   "execution_count": 69,
   "id": "2938e1a6",
   "metadata": {},
   "outputs": [
    {
     "data": {
      "text/html": [
       "<div>\n",
       "<style scoped>\n",
       "    .dataframe tbody tr th:only-of-type {\n",
       "        vertical-align: middle;\n",
       "    }\n",
       "\n",
       "    .dataframe tbody tr th {\n",
       "        vertical-align: top;\n",
       "    }\n",
       "\n",
       "    .dataframe thead th {\n",
       "        text-align: right;\n",
       "    }\n",
       "</style>\n",
       "<table border=\"1\" class=\"dataframe\">\n",
       "  <thead>\n",
       "    <tr style=\"text-align: right;\">\n",
       "      <th></th>\n",
       "      <th>LoanAmount</th>\n",
       "    </tr>\n",
       "  </thead>\n",
       "  <tbody>\n",
       "    <tr>\n",
       "      <th>ApplicantIncome</th>\n",
       "      <td>0.613727</td>\n",
       "    </tr>\n",
       "    <tr>\n",
       "      <th>CoapplicantIncome</th>\n",
       "      <td>0.122415</td>\n",
       "    </tr>\n",
       "    <tr>\n",
       "      <th>LoanAmount</th>\n",
       "      <td>1.000000</td>\n",
       "    </tr>\n",
       "    <tr>\n",
       "      <th>Loan_Amount_Term</th>\n",
       "      <td>0.039909</td>\n",
       "    </tr>\n",
       "    <tr>\n",
       "      <th>Credit_History</th>\n",
       "      <td>-0.103500</td>\n",
       "    </tr>\n",
       "  </tbody>\n",
       "</table>\n",
       "</div>"
      ],
      "text/plain": [
       "                   LoanAmount\n",
       "ApplicantIncome      0.613727\n",
       "CoapplicantIncome    0.122415\n",
       "LoanAmount           1.000000\n",
       "Loan_Amount_Term     0.039909\n",
       "Credit_History      -0.103500"
      ]
     },
     "execution_count": 69,
     "metadata": {},
     "output_type": "execute_result"
    }
   ],
   "source": [
    "#Checking correlation between con and con values\n",
    "\n",
    "T1.corr()[[\"LoanAmount\"]]"
   ]
  },
  {
   "cell_type": "code",
   "execution_count": 70,
   "id": "1ff21adc",
   "metadata": {},
   "outputs": [],
   "source": [
    "from sklearn.model_selection import train_test_split\n",
    "xtrain,xtest,ytrain,ytest = train_test_split(Xnew,Y,test_size=0.2,random_state=21)\n",
    "\n",
    "from sklearn.linear_model import LinearRegression\n",
    "lr = LinearRegression()\n",
    "model = lr.fit(xtrain,ytrain)\n",
    "tr_pred = model.predict(xtrain)\n",
    "ts_pred = model.predict(xtest)\n",
    "\n",
    "from sklearn.metrics import mean_absolute_error\n",
    "tr_err = mean_absolute_error(ytrain, tr_pred)\n",
    "ts_err = mean_absolute_error(ytest, ts_pred)"
   ]
  },
  {
   "cell_type": "code",
   "execution_count": 71,
   "id": "faa209ce",
   "metadata": {},
   "outputs": [
    {
     "data": {
      "text/plain": [
       "35.97241320276358"
      ]
     },
     "execution_count": 71,
     "metadata": {},
     "output_type": "execute_result"
    }
   ],
   "source": [
    "tr_err"
   ]
  },
  {
   "cell_type": "code",
   "execution_count": 72,
   "id": "cf9b6e24",
   "metadata": {},
   "outputs": [
    {
     "data": {
      "text/plain": [
       "38.33339156876096"
      ]
     },
     "execution_count": 72,
     "metadata": {},
     "output_type": "execute_result"
    }
   ],
   "source": [
    "ts_err"
   ]
  },
  {
   "cell_type": "code",
   "execution_count": 73,
   "id": "5f20c683",
   "metadata": {},
   "outputs": [
    {
     "data": {
      "text/html": [
       "<div>\n",
       "<style scoped>\n",
       "    .dataframe tbody tr th:only-of-type {\n",
       "        vertical-align: middle;\n",
       "    }\n",
       "\n",
       "    .dataframe tbody tr th {\n",
       "        vertical-align: top;\n",
       "    }\n",
       "\n",
       "    .dataframe thead th {\n",
       "        text-align: right;\n",
       "    }\n",
       "</style>\n",
       "<table border=\"1\" class=\"dataframe\">\n",
       "  <thead>\n",
       "    <tr style=\"text-align: right;\">\n",
       "      <th></th>\n",
       "      <th>Loan_ID</th>\n",
       "      <th>Gender</th>\n",
       "      <th>Married</th>\n",
       "      <th>Dependents</th>\n",
       "      <th>Education</th>\n",
       "      <th>Self_Employed</th>\n",
       "      <th>ApplicantIncome</th>\n",
       "      <th>CoapplicantIncome</th>\n",
       "      <th>LoanAmount</th>\n",
       "      <th>Loan_Amount_Term</th>\n",
       "      <th>Credit_History</th>\n",
       "      <th>Property_Area</th>\n",
       "      <th>pred_loan_status</th>\n",
       "    </tr>\n",
       "  </thead>\n",
       "  <tbody>\n",
       "    <tr>\n",
       "      <th>7</th>\n",
       "      <td>LP001056</td>\n",
       "      <td>Male</td>\n",
       "      <td>Yes</td>\n",
       "      <td>2</td>\n",
       "      <td>Not Graduate</td>\n",
       "      <td>No</td>\n",
       "      <td>3881</td>\n",
       "      <td>0</td>\n",
       "      <td>147.0</td>\n",
       "      <td>360.0</td>\n",
       "      <td>0.000000</td>\n",
       "      <td>Rural</td>\n",
       "      <td>N</td>\n",
       "    </tr>\n",
       "    <tr>\n",
       "      <th>13</th>\n",
       "      <td>LP001094</td>\n",
       "      <td>Male</td>\n",
       "      <td>Yes</td>\n",
       "      <td>2</td>\n",
       "      <td>Graduate</td>\n",
       "      <td>No</td>\n",
       "      <td>12173</td>\n",
       "      <td>0</td>\n",
       "      <td>166.0</td>\n",
       "      <td>360.0</td>\n",
       "      <td>0.000000</td>\n",
       "      <td>Semiurban</td>\n",
       "      <td>N</td>\n",
       "    </tr>\n",
       "    <tr>\n",
       "      <th>25</th>\n",
       "      <td>LP001153</td>\n",
       "      <td>Male</td>\n",
       "      <td>No</td>\n",
       "      <td>0</td>\n",
       "      <td>Graduate</td>\n",
       "      <td>No</td>\n",
       "      <td>0</td>\n",
       "      <td>24000</td>\n",
       "      <td>148.0</td>\n",
       "      <td>360.0</td>\n",
       "      <td>0.000000</td>\n",
       "      <td>Rural</td>\n",
       "      <td>N</td>\n",
       "    </tr>\n",
       "    <tr>\n",
       "      <th>35</th>\n",
       "      <td>LP001203</td>\n",
       "      <td>Male</td>\n",
       "      <td>No</td>\n",
       "      <td>0</td>\n",
       "      <td>Graduate</td>\n",
       "      <td>No</td>\n",
       "      <td>3150</td>\n",
       "      <td>0</td>\n",
       "      <td>176.0</td>\n",
       "      <td>360.0</td>\n",
       "      <td>0.000000</td>\n",
       "      <td>Semiurban</td>\n",
       "      <td>N</td>\n",
       "    </tr>\n",
       "    <tr>\n",
       "      <th>55</th>\n",
       "      <td>LP001313</td>\n",
       "      <td>Male</td>\n",
       "      <td>No</td>\n",
       "      <td>0</td>\n",
       "      <td>Graduate</td>\n",
       "      <td>No</td>\n",
       "      <td>2750</td>\n",
       "      <td>0</td>\n",
       "      <td>130.0</td>\n",
       "      <td>360.0</td>\n",
       "      <td>0.000000</td>\n",
       "      <td>Urban</td>\n",
       "      <td>N</td>\n",
       "    </tr>\n",
       "    <tr>\n",
       "      <th>...</th>\n",
       "      <td>...</td>\n",
       "      <td>...</td>\n",
       "      <td>...</td>\n",
       "      <td>...</td>\n",
       "      <td>...</td>\n",
       "      <td>...</td>\n",
       "      <td>...</td>\n",
       "      <td>...</td>\n",
       "      <td>...</td>\n",
       "      <td>...</td>\n",
       "      <td>...</td>\n",
       "      <td>...</td>\n",
       "      <td>...</td>\n",
       "    </tr>\n",
       "    <tr>\n",
       "      <th>325</th>\n",
       "      <td>LP002802</td>\n",
       "      <td>Male</td>\n",
       "      <td>No</td>\n",
       "      <td>0</td>\n",
       "      <td>Graduate</td>\n",
       "      <td>No</td>\n",
       "      <td>2875</td>\n",
       "      <td>2416</td>\n",
       "      <td>95.0</td>\n",
       "      <td>6.0</td>\n",
       "      <td>0.000000</td>\n",
       "      <td>Semiurban</td>\n",
       "      <td>N</td>\n",
       "    </tr>\n",
       "    <tr>\n",
       "      <th>339</th>\n",
       "      <td>LP002858</td>\n",
       "      <td>Female</td>\n",
       "      <td>No</td>\n",
       "      <td>0</td>\n",
       "      <td>Graduate</td>\n",
       "      <td>No</td>\n",
       "      <td>4333</td>\n",
       "      <td>2333</td>\n",
       "      <td>162.0</td>\n",
       "      <td>360.0</td>\n",
       "      <td>0.000000</td>\n",
       "      <td>Rural</td>\n",
       "      <td>N</td>\n",
       "    </tr>\n",
       "    <tr>\n",
       "      <th>346</th>\n",
       "      <td>LP002879</td>\n",
       "      <td>Male</td>\n",
       "      <td>Yes</td>\n",
       "      <td>0</td>\n",
       "      <td>Graduate</td>\n",
       "      <td>No</td>\n",
       "      <td>3391</td>\n",
       "      <td>1966</td>\n",
       "      <td>133.0</td>\n",
       "      <td>360.0</td>\n",
       "      <td>0.000000</td>\n",
       "      <td>Rural</td>\n",
       "      <td>N</td>\n",
       "    </tr>\n",
       "    <tr>\n",
       "      <th>351</th>\n",
       "      <td>LP002901</td>\n",
       "      <td>Male</td>\n",
       "      <td>No</td>\n",
       "      <td>0</td>\n",
       "      <td>Graduate</td>\n",
       "      <td>No</td>\n",
       "      <td>2283</td>\n",
       "      <td>15000</td>\n",
       "      <td>106.0</td>\n",
       "      <td>360.0</td>\n",
       "      <td>0.825444</td>\n",
       "      <td>Rural</td>\n",
       "      <td>N</td>\n",
       "    </tr>\n",
       "    <tr>\n",
       "      <th>354</th>\n",
       "      <td>LP002921</td>\n",
       "      <td>Male</td>\n",
       "      <td>Yes</td>\n",
       "      <td>4</td>\n",
       "      <td>Not Graduate</td>\n",
       "      <td>No</td>\n",
       "      <td>5316</td>\n",
       "      <td>187</td>\n",
       "      <td>158.0</td>\n",
       "      <td>180.0</td>\n",
       "      <td>0.000000</td>\n",
       "      <td>Semiurban</td>\n",
       "      <td>N</td>\n",
       "    </tr>\n",
       "  </tbody>\n",
       "</table>\n",
       "<p>64 rows × 13 columns</p>\n",
       "</div>"
      ],
      "text/plain": [
       "      Loan_ID  Gender Married Dependents     Education Self_Employed  \\\n",
       "7    LP001056    Male     Yes          2  Not Graduate            No   \n",
       "13   LP001094    Male     Yes          2      Graduate            No   \n",
       "25   LP001153    Male      No          0      Graduate            No   \n",
       "35   LP001203    Male      No          0      Graduate            No   \n",
       "55   LP001313    Male      No          0      Graduate            No   \n",
       "..        ...     ...     ...        ...           ...           ...   \n",
       "325  LP002802    Male      No          0      Graduate            No   \n",
       "339  LP002858  Female      No          0      Graduate            No   \n",
       "346  LP002879    Male     Yes          0      Graduate            No   \n",
       "351  LP002901    Male      No          0      Graduate            No   \n",
       "354  LP002921    Male     Yes          4  Not Graduate            No   \n",
       "\n",
       "     ApplicantIncome  CoapplicantIncome  LoanAmount  Loan_Amount_Term  \\\n",
       "7               3881                  0       147.0             360.0   \n",
       "13             12173                  0       166.0             360.0   \n",
       "25                 0              24000       148.0             360.0   \n",
       "35              3150                  0       176.0             360.0   \n",
       "55              2750                  0       130.0             360.0   \n",
       "..               ...                ...         ...               ...   \n",
       "325             2875               2416        95.0               6.0   \n",
       "339             4333               2333       162.0             360.0   \n",
       "346             3391               1966       133.0             360.0   \n",
       "351             2283              15000       106.0             360.0   \n",
       "354             5316                187       158.0             180.0   \n",
       "\n",
       "     Credit_History Property_Area pred_loan_status  \n",
       "7          0.000000         Rural                N  \n",
       "13         0.000000     Semiurban                N  \n",
       "25         0.000000         Rural                N  \n",
       "35         0.000000     Semiurban                N  \n",
       "55         0.000000         Urban                N  \n",
       "..              ...           ...              ...  \n",
       "325        0.000000     Semiurban                N  \n",
       "339        0.000000         Rural                N  \n",
       "346        0.000000         Rural                N  \n",
       "351        0.825444         Rural                N  \n",
       "354        0.000000     Semiurban                N  \n",
       "\n",
       "[64 rows x 13 columns]"
      ]
     },
     "execution_count": 73,
     "metadata": {},
     "output_type": "execute_result"
    }
   ],
   "source": [
    "test_new = test[test[\"pred_loan_status\"] == \"N\"]\n",
    "test_new"
   ]
  },
  {
   "cell_type": "code",
   "execution_count": 74,
   "id": "aa86041d",
   "metadata": {},
   "outputs": [],
   "source": [
    "test_new1 = test_new.drop(labels=[\"pred_loan_status\",\"Loan_ID\",\"LoanAmount\"],axis=1)"
   ]
  },
  {
   "cell_type": "code",
   "execution_count": 75,
   "id": "765d00da",
   "metadata": {},
   "outputs": [],
   "source": [
    "test_new1 = test_new1.reset_index()"
   ]
  },
  {
   "cell_type": "code",
   "execution_count": 76,
   "id": "a84ab05c",
   "metadata": {},
   "outputs": [],
   "source": [
    "#test_new.info()\n",
    "Xnew = preprocessing(test_new1)"
   ]
  },
  {
   "cell_type": "code",
   "execution_count": 135,
   "id": "8603986e",
   "metadata": {},
   "outputs": [],
   "source": [
    "pred = model.predict(Xnew)\n",
    "#pred"
   ]
  },
  {
   "cell_type": "code",
   "execution_count": 78,
   "id": "214c544f",
   "metadata": {},
   "outputs": [],
   "source": [
    "pred_loan_amt = test_new[[\"pred_loan_status\"]]\n",
    "pred_loan_amt = test_new[[\"Loan_ID\"]]\n",
    "pred_loan_amt[\"pred_loan_amt\"] = pred\n",
    "#pred_loan_amt.to_csv(\"C:/Users/HP/Desktop/ETLHive/Project 3/pred_loan_amount.csv\",index=False)"
   ]
  },
  {
   "cell_type": "code",
   "execution_count": 79,
   "id": "6335b893",
   "metadata": {},
   "outputs": [
    {
     "data": {
      "text/html": [
       "<div>\n",
       "<style scoped>\n",
       "    .dataframe tbody tr th:only-of-type {\n",
       "        vertical-align: middle;\n",
       "    }\n",
       "\n",
       "    .dataframe tbody tr th {\n",
       "        vertical-align: top;\n",
       "    }\n",
       "\n",
       "    .dataframe thead th {\n",
       "        text-align: right;\n",
       "    }\n",
       "</style>\n",
       "<table border=\"1\" class=\"dataframe\">\n",
       "  <thead>\n",
       "    <tr style=\"text-align: right;\">\n",
       "      <th></th>\n",
       "      <th>index</th>\n",
       "      <th>Loan_ID</th>\n",
       "      <th>pred_loan_amt</th>\n",
       "    </tr>\n",
       "  </thead>\n",
       "  <tbody>\n",
       "    <tr>\n",
       "      <th>0</th>\n",
       "      <td>7</td>\n",
       "      <td>LP001056</td>\n",
       "      <td>123.946144</td>\n",
       "    </tr>\n",
       "    <tr>\n",
       "      <th>1</th>\n",
       "      <td>13</td>\n",
       "      <td>LP001094</td>\n",
       "      <td>280.083811</td>\n",
       "    </tr>\n",
       "    <tr>\n",
       "      <th>2</th>\n",
       "      <td>25</td>\n",
       "      <td>LP001153</td>\n",
       "      <td>132.324150</td>\n",
       "    </tr>\n",
       "    <tr>\n",
       "      <th>3</th>\n",
       "      <td>35</td>\n",
       "      <td>LP001203</td>\n",
       "      <td>102.653023</td>\n",
       "    </tr>\n",
       "    <tr>\n",
       "      <th>4</th>\n",
       "      <td>55</td>\n",
       "      <td>LP001313</td>\n",
       "      <td>92.216847</td>\n",
       "    </tr>\n",
       "    <tr>\n",
       "      <th>...</th>\n",
       "      <td>...</td>\n",
       "      <td>...</td>\n",
       "      <td>...</td>\n",
       "    </tr>\n",
       "    <tr>\n",
       "      <th>59</th>\n",
       "      <td>325</td>\n",
       "      <td>LP002802</td>\n",
       "      <td>73.641375</td>\n",
       "    </tr>\n",
       "    <tr>\n",
       "      <th>60</th>\n",
       "      <td>339</td>\n",
       "      <td>LP002858</td>\n",
       "      <td>137.756555</td>\n",
       "    </tr>\n",
       "    <tr>\n",
       "      <th>61</th>\n",
       "      <td>346</td>\n",
       "      <td>LP002879</td>\n",
       "      <td>135.552585</td>\n",
       "    </tr>\n",
       "    <tr>\n",
       "      <th>62</th>\n",
       "      <td>351</td>\n",
       "      <td>LP002901</td>\n",
       "      <td>140.729013</td>\n",
       "    </tr>\n",
       "    <tr>\n",
       "      <th>63</th>\n",
       "      <td>354</td>\n",
       "      <td>LP002921</td>\n",
       "      <td>135.754183</td>\n",
       "    </tr>\n",
       "  </tbody>\n",
       "</table>\n",
       "<p>64 rows × 3 columns</p>\n",
       "</div>"
      ],
      "text/plain": [
       "    index   Loan_ID  pred_loan_amt\n",
       "0       7  LP001056     123.946144\n",
       "1      13  LP001094     280.083811\n",
       "2      25  LP001153     132.324150\n",
       "3      35  LP001203     102.653023\n",
       "4      55  LP001313      92.216847\n",
       "..    ...       ...            ...\n",
       "59    325  LP002802      73.641375\n",
       "60    339  LP002858     137.756555\n",
       "61    346  LP002879     135.552585\n",
       "62    351  LP002901     140.729013\n",
       "63    354  LP002921     135.754183\n",
       "\n",
       "[64 rows x 3 columns]"
      ]
     },
     "execution_count": 79,
     "metadata": {},
     "output_type": "execute_result"
    }
   ],
   "source": [
    "pred_loan_amt.reset_index()"
   ]
  },
  {
   "cell_type": "code",
   "execution_count": 80,
   "id": "f3a336d1",
   "metadata": {},
   "outputs": [],
   "source": [
    "pred_loan_amt.to_csv(\"C:/Users/HP/Desktop/ETLHive/Project 3/pred_loan_amount.csv\",index=False)"
   ]
  },
  {
   "cell_type": "markdown",
   "id": "3442c41a",
   "metadata": {},
   "source": [
    "### If duration is less than equal to 20 years, is customer eligible for required amount for some longer duration? What is that duration?(Regression)"
   ]
  },
  {
   "cell_type": "code",
   "execution_count": 160,
   "id": "6b21fc4e",
   "metadata": {},
   "outputs": [],
   "source": [
    "test1 = test[(test.Loan_Amount_Term <= 240) & (test.pred_loan_status == \"Y\")]\n",
    "test1 = test1.reset_index()"
   ]
  },
  {
   "cell_type": "code",
   "execution_count": 161,
   "id": "556cdd19",
   "metadata": {},
   "outputs": [],
   "source": [
    "test2 = test1.drop(labels=[\"Loan_Amount_Term\",\"Loan_ID\",\"pred_loan_status\"],axis=1)"
   ]
  },
  {
   "cell_type": "code",
   "execution_count": 162,
   "id": "f33f9091",
   "metadata": {},
   "outputs": [],
   "source": [
    "test1_new = preprocessing(test2)"
   ]
  },
  {
   "cell_type": "code",
   "execution_count": 163,
   "id": "6ba63eab",
   "metadata": {},
   "outputs": [
    {
     "data": {
      "text/html": [
       "<div>\n",
       "<style scoped>\n",
       "    .dataframe tbody tr th:only-of-type {\n",
       "        vertical-align: middle;\n",
       "    }\n",
       "\n",
       "    .dataframe tbody tr th {\n",
       "        vertical-align: top;\n",
       "    }\n",
       "\n",
       "    .dataframe thead th {\n",
       "        text-align: right;\n",
       "    }\n",
       "</style>\n",
       "<table border=\"1\" class=\"dataframe\">\n",
       "  <thead>\n",
       "    <tr style=\"text-align: right;\">\n",
       "      <th></th>\n",
       "      <th>ApplicantIncome</th>\n",
       "      <th>CoapplicantIncome</th>\n",
       "      <th>LoanAmount</th>\n",
       "      <th>Credit_History</th>\n",
       "      <th>Gender_Female</th>\n",
       "      <th>Gender_Male</th>\n",
       "      <th>Married_No</th>\n",
       "      <th>Married_Yes</th>\n",
       "      <th>Dependents_4</th>\n",
       "      <th>Dependents_0</th>\n",
       "      <th>Dependents_1</th>\n",
       "      <th>Dependents_2</th>\n",
       "      <th>Education_Graduate</th>\n",
       "      <th>Education_Not Graduate</th>\n",
       "      <th>Self_Employed_No</th>\n",
       "      <th>Self_Employed_Yes</th>\n",
       "      <th>Property_Area_Rural</th>\n",
       "      <th>Property_Area_Semiurban</th>\n",
       "      <th>Property_Area_Urban</th>\n",
       "    </tr>\n",
       "  </thead>\n",
       "  <tbody>\n",
       "    <tr>\n",
       "      <th>0</th>\n",
       "      <td>3.232707</td>\n",
       "      <td>-0.860428</td>\n",
       "      <td>2.896919</td>\n",
       "      <td>0.277350</td>\n",
       "      <td>0</td>\n",
       "      <td>1</td>\n",
       "      <td>0</td>\n",
       "      <td>1</td>\n",
       "      <td>0</td>\n",
       "      <td>0</td>\n",
       "      <td>0</td>\n",
       "      <td>1</td>\n",
       "      <td>1</td>\n",
       "      <td>0</td>\n",
       "      <td>1</td>\n",
       "      <td>0</td>\n",
       "      <td>0</td>\n",
       "      <td>0</td>\n",
       "      <td>1</td>\n",
       "    </tr>\n",
       "    <tr>\n",
       "      <th>1</th>\n",
       "      <td>-0.078113</td>\n",
       "      <td>-0.860428</td>\n",
       "      <td>-1.091463</td>\n",
       "      <td>-3.605551</td>\n",
       "      <td>0</td>\n",
       "      <td>1</td>\n",
       "      <td>1</td>\n",
       "      <td>0</td>\n",
       "      <td>1</td>\n",
       "      <td>0</td>\n",
       "      <td>0</td>\n",
       "      <td>0</td>\n",
       "      <td>1</td>\n",
       "      <td>0</td>\n",
       "      <td>1</td>\n",
       "      <td>0</td>\n",
       "      <td>0</td>\n",
       "      <td>0</td>\n",
       "      <td>1</td>\n",
       "    </tr>\n",
       "    <tr>\n",
       "      <th>2</th>\n",
       "      <td>-1.080417</td>\n",
       "      <td>1.411967</td>\n",
       "      <td>-0.094368</td>\n",
       "      <td>0.277350</td>\n",
       "      <td>0</td>\n",
       "      <td>1</td>\n",
       "      <td>1</td>\n",
       "      <td>0</td>\n",
       "      <td>0</td>\n",
       "      <td>1</td>\n",
       "      <td>0</td>\n",
       "      <td>0</td>\n",
       "      <td>1</td>\n",
       "      <td>0</td>\n",
       "      <td>1</td>\n",
       "      <td>0</td>\n",
       "      <td>0</td>\n",
       "      <td>1</td>\n",
       "      <td>0</td>\n",
       "    </tr>\n",
       "    <tr>\n",
       "      <th>3</th>\n",
       "      <td>-0.806584</td>\n",
       "      <td>-0.860428</td>\n",
       "      <td>-1.290883</td>\n",
       "      <td>0.277350</td>\n",
       "      <td>1</td>\n",
       "      <td>0</td>\n",
       "      <td>1</td>\n",
       "      <td>0</td>\n",
       "      <td>1</td>\n",
       "      <td>0</td>\n",
       "      <td>0</td>\n",
       "      <td>0</td>\n",
       "      <td>0</td>\n",
       "      <td>1</td>\n",
       "      <td>1</td>\n",
       "      <td>0</td>\n",
       "      <td>0</td>\n",
       "      <td>0</td>\n",
       "      <td>1</td>\n",
       "    </tr>\n",
       "    <tr>\n",
       "      <th>4</th>\n",
       "      <td>-0.506173</td>\n",
       "      <td>0.699470</td>\n",
       "      <td>0.321088</td>\n",
       "      <td>0.277350</td>\n",
       "      <td>0</td>\n",
       "      <td>1</td>\n",
       "      <td>1</td>\n",
       "      <td>0</td>\n",
       "      <td>0</td>\n",
       "      <td>1</td>\n",
       "      <td>0</td>\n",
       "      <td>0</td>\n",
       "      <td>1</td>\n",
       "      <td>0</td>\n",
       "      <td>1</td>\n",
       "      <td>0</td>\n",
       "      <td>0</td>\n",
       "      <td>0</td>\n",
       "      <td>1</td>\n",
       "    </tr>\n",
       "    <tr>\n",
       "      <th>5</th>\n",
       "      <td>1.035402</td>\n",
       "      <td>1.778039</td>\n",
       "      <td>1.318184</td>\n",
       "      <td>0.277350</td>\n",
       "      <td>0</td>\n",
       "      <td>1</td>\n",
       "      <td>0</td>\n",
       "      <td>1</td>\n",
       "      <td>0</td>\n",
       "      <td>0</td>\n",
       "      <td>0</td>\n",
       "      <td>1</td>\n",
       "      <td>1</td>\n",
       "      <td>0</td>\n",
       "      <td>1</td>\n",
       "      <td>0</td>\n",
       "      <td>0</td>\n",
       "      <td>0</td>\n",
       "      <td>1</td>\n",
       "    </tr>\n",
       "    <tr>\n",
       "      <th>6</th>\n",
       "      <td>-0.095599</td>\n",
       "      <td>-0.205559</td>\n",
       "      <td>-1.257646</td>\n",
       "      <td>0.277350</td>\n",
       "      <td>0</td>\n",
       "      <td>1</td>\n",
       "      <td>0</td>\n",
       "      <td>1</td>\n",
       "      <td>0</td>\n",
       "      <td>0</td>\n",
       "      <td>0</td>\n",
       "      <td>1</td>\n",
       "      <td>1</td>\n",
       "      <td>0</td>\n",
       "      <td>1</td>\n",
       "      <td>0</td>\n",
       "      <td>0</td>\n",
       "      <td>0</td>\n",
       "      <td>1</td>\n",
       "    </tr>\n",
       "    <tr>\n",
       "      <th>7</th>\n",
       "      <td>-0.271509</td>\n",
       "      <td>1.457153</td>\n",
       "      <td>0.470653</td>\n",
       "      <td>0.277350</td>\n",
       "      <td>0</td>\n",
       "      <td>1</td>\n",
       "      <td>0</td>\n",
       "      <td>1</td>\n",
       "      <td>0</td>\n",
       "      <td>0</td>\n",
       "      <td>0</td>\n",
       "      <td>1</td>\n",
       "      <td>1</td>\n",
       "      <td>0</td>\n",
       "      <td>1</td>\n",
       "      <td>0</td>\n",
       "      <td>0</td>\n",
       "      <td>1</td>\n",
       "      <td>0</td>\n",
       "    </tr>\n",
       "    <tr>\n",
       "      <th>8</th>\n",
       "      <td>0.115633</td>\n",
       "      <td>-0.860428</td>\n",
       "      <td>-0.260551</td>\n",
       "      <td>0.277350</td>\n",
       "      <td>0</td>\n",
       "      <td>1</td>\n",
       "      <td>0</td>\n",
       "      <td>1</td>\n",
       "      <td>1</td>\n",
       "      <td>0</td>\n",
       "      <td>0</td>\n",
       "      <td>0</td>\n",
       "      <td>1</td>\n",
       "      <td>0</td>\n",
       "      <td>1</td>\n",
       "      <td>0</td>\n",
       "      <td>0</td>\n",
       "      <td>1</td>\n",
       "      <td>0</td>\n",
       "    </tr>\n",
       "    <tr>\n",
       "      <th>9</th>\n",
       "      <td>-0.107140</td>\n",
       "      <td>0.301965</td>\n",
       "      <td>0.553744</td>\n",
       "      <td>0.277350</td>\n",
       "      <td>0</td>\n",
       "      <td>1</td>\n",
       "      <td>0</td>\n",
       "      <td>1</td>\n",
       "      <td>0</td>\n",
       "      <td>0</td>\n",
       "      <td>1</td>\n",
       "      <td>0</td>\n",
       "      <td>1</td>\n",
       "      <td>0</td>\n",
       "      <td>1</td>\n",
       "      <td>0</td>\n",
       "      <td>0</td>\n",
       "      <td>0</td>\n",
       "      <td>1</td>\n",
       "    </tr>\n",
       "    <tr>\n",
       "      <th>10</th>\n",
       "      <td>-0.595352</td>\n",
       "      <td>-0.860428</td>\n",
       "      <td>-0.925281</td>\n",
       "      <td>0.277350</td>\n",
       "      <td>0</td>\n",
       "      <td>1</td>\n",
       "      <td>0</td>\n",
       "      <td>1</td>\n",
       "      <td>0</td>\n",
       "      <td>0</td>\n",
       "      <td>0</td>\n",
       "      <td>1</td>\n",
       "      <td>0</td>\n",
       "      <td>1</td>\n",
       "      <td>1</td>\n",
       "      <td>0</td>\n",
       "      <td>1</td>\n",
       "      <td>0</td>\n",
       "      <td>0</td>\n",
       "    </tr>\n",
       "    <tr>\n",
       "      <th>11</th>\n",
       "      <td>-0.460359</td>\n",
       "      <td>-0.860428</td>\n",
       "      <td>-0.592916</td>\n",
       "      <td>0.277350</td>\n",
       "      <td>0</td>\n",
       "      <td>1</td>\n",
       "      <td>1</td>\n",
       "      <td>0</td>\n",
       "      <td>0</td>\n",
       "      <td>1</td>\n",
       "      <td>0</td>\n",
       "      <td>0</td>\n",
       "      <td>1</td>\n",
       "      <td>0</td>\n",
       "      <td>1</td>\n",
       "      <td>0</td>\n",
       "      <td>0</td>\n",
       "      <td>0</td>\n",
       "      <td>1</td>\n",
       "    </tr>\n",
       "    <tr>\n",
       "      <th>12</th>\n",
       "      <td>-0.136167</td>\n",
       "      <td>-0.860428</td>\n",
       "      <td>-0.376878</td>\n",
       "      <td>0.277350</td>\n",
       "      <td>0</td>\n",
       "      <td>1</td>\n",
       "      <td>1</td>\n",
       "      <td>0</td>\n",
       "      <td>0</td>\n",
       "      <td>1</td>\n",
       "      <td>0</td>\n",
       "      <td>0</td>\n",
       "      <td>1</td>\n",
       "      <td>0</td>\n",
       "      <td>1</td>\n",
       "      <td>0</td>\n",
       "      <td>0</td>\n",
       "      <td>0</td>\n",
       "      <td>1</td>\n",
       "    </tr>\n",
       "    <tr>\n",
       "      <th>13</th>\n",
       "      <td>-0.454764</td>\n",
       "      <td>1.103524</td>\n",
       "      <td>-0.094368</td>\n",
       "      <td>0.277350</td>\n",
       "      <td>0</td>\n",
       "      <td>1</td>\n",
       "      <td>0</td>\n",
       "      <td>1</td>\n",
       "      <td>1</td>\n",
       "      <td>0</td>\n",
       "      <td>0</td>\n",
       "      <td>0</td>\n",
       "      <td>1</td>\n",
       "      <td>0</td>\n",
       "      <td>1</td>\n",
       "      <td>0</td>\n",
       "      <td>1</td>\n",
       "      <td>0</td>\n",
       "      <td>0</td>\n",
       "    </tr>\n",
       "    <tr>\n",
       "      <th>14</th>\n",
       "      <td>2.273419</td>\n",
       "      <td>-0.860428</td>\n",
       "      <td>2.564553</td>\n",
       "      <td>0.277350</td>\n",
       "      <td>0</td>\n",
       "      <td>1</td>\n",
       "      <td>0</td>\n",
       "      <td>1</td>\n",
       "      <td>0</td>\n",
       "      <td>0</td>\n",
       "      <td>0</td>\n",
       "      <td>1</td>\n",
       "      <td>1</td>\n",
       "      <td>0</td>\n",
       "      <td>0</td>\n",
       "      <td>1</td>\n",
       "      <td>1</td>\n",
       "      <td>0</td>\n",
       "      <td>0</td>\n",
       "    </tr>\n",
       "    <tr>\n",
       "      <th>15</th>\n",
       "      <td>-0.422939</td>\n",
       "      <td>0.691612</td>\n",
       "      <td>-0.426733</td>\n",
       "      <td>-3.605551</td>\n",
       "      <td>0</td>\n",
       "      <td>1</td>\n",
       "      <td>1</td>\n",
       "      <td>0</td>\n",
       "      <td>0</td>\n",
       "      <td>0</td>\n",
       "      <td>1</td>\n",
       "      <td>0</td>\n",
       "      <td>1</td>\n",
       "      <td>0</td>\n",
       "      <td>1</td>\n",
       "      <td>0</td>\n",
       "      <td>1</td>\n",
       "      <td>0</td>\n",
       "      <td>0</td>\n",
       "    </tr>\n",
       "    <tr>\n",
       "      <th>16</th>\n",
       "      <td>-0.019709</td>\n",
       "      <td>-0.860428</td>\n",
       "      <td>0.437416</td>\n",
       "      <td>0.277350</td>\n",
       "      <td>1</td>\n",
       "      <td>0</td>\n",
       "      <td>0</td>\n",
       "      <td>1</td>\n",
       "      <td>0</td>\n",
       "      <td>0</td>\n",
       "      <td>1</td>\n",
       "      <td>0</td>\n",
       "      <td>1</td>\n",
       "      <td>0</td>\n",
       "      <td>1</td>\n",
       "      <td>0</td>\n",
       "      <td>1</td>\n",
       "      <td>0</td>\n",
       "      <td>0</td>\n",
       "    </tr>\n",
       "    <tr>\n",
       "      <th>17</th>\n",
       "      <td>-0.574369</td>\n",
       "      <td>0.749240</td>\n",
       "      <td>0.204761</td>\n",
       "      <td>0.277350</td>\n",
       "      <td>0</td>\n",
       "      <td>1</td>\n",
       "      <td>0</td>\n",
       "      <td>1</td>\n",
       "      <td>0</td>\n",
       "      <td>1</td>\n",
       "      <td>0</td>\n",
       "      <td>0</td>\n",
       "      <td>0</td>\n",
       "      <td>1</td>\n",
       "      <td>1</td>\n",
       "      <td>0</td>\n",
       "      <td>0</td>\n",
       "      <td>1</td>\n",
       "      <td>0</td>\n",
       "    </tr>\n",
       "    <tr>\n",
       "      <th>18</th>\n",
       "      <td>-1.124831</td>\n",
       "      <td>0.183433</td>\n",
       "      <td>-1.290883</td>\n",
       "      <td>0.277350</td>\n",
       "      <td>0</td>\n",
       "      <td>1</td>\n",
       "      <td>0</td>\n",
       "      <td>1</td>\n",
       "      <td>0</td>\n",
       "      <td>1</td>\n",
       "      <td>0</td>\n",
       "      <td>0</td>\n",
       "      <td>1</td>\n",
       "      <td>0</td>\n",
       "      <td>1</td>\n",
       "      <td>0</td>\n",
       "      <td>1</td>\n",
       "      <td>0</td>\n",
       "      <td>0</td>\n",
       "    </tr>\n",
       "    <tr>\n",
       "      <th>19</th>\n",
       "      <td>-0.512118</td>\n",
       "      <td>-0.860428</td>\n",
       "      <td>-1.091463</td>\n",
       "      <td>0.277350</td>\n",
       "      <td>0</td>\n",
       "      <td>1</td>\n",
       "      <td>1</td>\n",
       "      <td>0</td>\n",
       "      <td>0</td>\n",
       "      <td>1</td>\n",
       "      <td>0</td>\n",
       "      <td>0</td>\n",
       "      <td>1</td>\n",
       "      <td>0</td>\n",
       "      <td>1</td>\n",
       "      <td>0</td>\n",
       "      <td>1</td>\n",
       "      <td>0</td>\n",
       "      <td>0</td>\n",
       "    </tr>\n",
       "    <tr>\n",
       "      <th>20</th>\n",
       "      <td>0.482492</td>\n",
       "      <td>-0.860428</td>\n",
       "      <td>0.071815</td>\n",
       "      <td>0.277350</td>\n",
       "      <td>1</td>\n",
       "      <td>0</td>\n",
       "      <td>1</td>\n",
       "      <td>0</td>\n",
       "      <td>0</td>\n",
       "      <td>1</td>\n",
       "      <td>0</td>\n",
       "      <td>0</td>\n",
       "      <td>1</td>\n",
       "      <td>0</td>\n",
       "      <td>1</td>\n",
       "      <td>0</td>\n",
       "      <td>0</td>\n",
       "      <td>1</td>\n",
       "      <td>0</td>\n",
       "    </tr>\n",
       "    <tr>\n",
       "      <th>21</th>\n",
       "      <td>-0.812530</td>\n",
       "      <td>0.520036</td>\n",
       "      <td>-0.027895</td>\n",
       "      <td>0.277350</td>\n",
       "      <td>0</td>\n",
       "      <td>1</td>\n",
       "      <td>1</td>\n",
       "      <td>0</td>\n",
       "      <td>0</td>\n",
       "      <td>1</td>\n",
       "      <td>0</td>\n",
       "      <td>0</td>\n",
       "      <td>1</td>\n",
       "      <td>0</td>\n",
       "      <td>1</td>\n",
       "      <td>0</td>\n",
       "      <td>0</td>\n",
       "      <td>0</td>\n",
       "      <td>1</td>\n",
       "    </tr>\n",
       "    <tr>\n",
       "      <th>22</th>\n",
       "      <td>1.213411</td>\n",
       "      <td>-0.284798</td>\n",
       "      <td>0.985819</td>\n",
       "      <td>0.277350</td>\n",
       "      <td>1</td>\n",
       "      <td>0</td>\n",
       "      <td>0</td>\n",
       "      <td>1</td>\n",
       "      <td>0</td>\n",
       "      <td>1</td>\n",
       "      <td>0</td>\n",
       "      <td>0</td>\n",
       "      <td>1</td>\n",
       "      <td>0</td>\n",
       "      <td>1</td>\n",
       "      <td>0</td>\n",
       "      <td>0</td>\n",
       "      <td>1</td>\n",
       "      <td>0</td>\n",
       "    </tr>\n",
       "    <tr>\n",
       "      <th>23</th>\n",
       "      <td>-0.346000</td>\n",
       "      <td>-0.860428</td>\n",
       "      <td>-0.426733</td>\n",
       "      <td>0.277350</td>\n",
       "      <td>0</td>\n",
       "      <td>1</td>\n",
       "      <td>0</td>\n",
       "      <td>1</td>\n",
       "      <td>1</td>\n",
       "      <td>0</td>\n",
       "      <td>0</td>\n",
       "      <td>0</td>\n",
       "      <td>1</td>\n",
       "      <td>0</td>\n",
       "      <td>1</td>\n",
       "      <td>0</td>\n",
       "      <td>0</td>\n",
       "      <td>0</td>\n",
       "      <td>1</td>\n",
       "    </tr>\n",
       "    <tr>\n",
       "      <th>24</th>\n",
       "      <td>-0.709711</td>\n",
       "      <td>1.336658</td>\n",
       "      <td>-0.310405</td>\n",
       "      <td>0.277350</td>\n",
       "      <td>0</td>\n",
       "      <td>1</td>\n",
       "      <td>0</td>\n",
       "      <td>1</td>\n",
       "      <td>0</td>\n",
       "      <td>0</td>\n",
       "      <td>1</td>\n",
       "      <td>0</td>\n",
       "      <td>1</td>\n",
       "      <td>0</td>\n",
       "      <td>0</td>\n",
       "      <td>1</td>\n",
       "      <td>1</td>\n",
       "      <td>0</td>\n",
       "      <td>0</td>\n",
       "    </tr>\n",
       "    <tr>\n",
       "      <th>25</th>\n",
       "      <td>-0.617734</td>\n",
       "      <td>2.303244</td>\n",
       "      <td>0.271234</td>\n",
       "      <td>0.277350</td>\n",
       "      <td>0</td>\n",
       "      <td>1</td>\n",
       "      <td>0</td>\n",
       "      <td>1</td>\n",
       "      <td>0</td>\n",
       "      <td>1</td>\n",
       "      <td>0</td>\n",
       "      <td>0</td>\n",
       "      <td>1</td>\n",
       "      <td>0</td>\n",
       "      <td>0</td>\n",
       "      <td>1</td>\n",
       "      <td>0</td>\n",
       "      <td>1</td>\n",
       "      <td>0</td>\n",
       "    </tr>\n",
       "    <tr>\n",
       "      <th>26</th>\n",
       "      <td>-0.303334</td>\n",
       "      <td>-0.860428</td>\n",
       "      <td>-0.410115</td>\n",
       "      <td>0.277350</td>\n",
       "      <td>0</td>\n",
       "      <td>1</td>\n",
       "      <td>0</td>\n",
       "      <td>1</td>\n",
       "      <td>1</td>\n",
       "      <td>0</td>\n",
       "      <td>0</td>\n",
       "      <td>0</td>\n",
       "      <td>0</td>\n",
       "      <td>1</td>\n",
       "      <td>1</td>\n",
       "      <td>0</td>\n",
       "      <td>1</td>\n",
       "      <td>0</td>\n",
       "      <td>0</td>\n",
       "    </tr>\n",
       "    <tr>\n",
       "      <th>27</th>\n",
       "      <td>1.682389</td>\n",
       "      <td>-0.860428</td>\n",
       "      <td>-0.127604</td>\n",
       "      <td>0.277350</td>\n",
       "      <td>0</td>\n",
       "      <td>1</td>\n",
       "      <td>1</td>\n",
       "      <td>0</td>\n",
       "      <td>0</td>\n",
       "      <td>1</td>\n",
       "      <td>0</td>\n",
       "      <td>0</td>\n",
       "      <td>1</td>\n",
       "      <td>0</td>\n",
       "      <td>0</td>\n",
       "      <td>1</td>\n",
       "      <td>1</td>\n",
       "      <td>0</td>\n",
       "      <td>0</td>\n",
       "    </tr>\n",
       "  </tbody>\n",
       "</table>\n",
       "</div>"
      ],
      "text/plain": [
       "    ApplicantIncome  CoapplicantIncome  LoanAmount  Credit_History  \\\n",
       "0          3.232707          -0.860428    2.896919        0.277350   \n",
       "1         -0.078113          -0.860428   -1.091463       -3.605551   \n",
       "2         -1.080417           1.411967   -0.094368        0.277350   \n",
       "3         -0.806584          -0.860428   -1.290883        0.277350   \n",
       "4         -0.506173           0.699470    0.321088        0.277350   \n",
       "5          1.035402           1.778039    1.318184        0.277350   \n",
       "6         -0.095599          -0.205559   -1.257646        0.277350   \n",
       "7         -0.271509           1.457153    0.470653        0.277350   \n",
       "8          0.115633          -0.860428   -0.260551        0.277350   \n",
       "9         -0.107140           0.301965    0.553744        0.277350   \n",
       "10        -0.595352          -0.860428   -0.925281        0.277350   \n",
       "11        -0.460359          -0.860428   -0.592916        0.277350   \n",
       "12        -0.136167          -0.860428   -0.376878        0.277350   \n",
       "13        -0.454764           1.103524   -0.094368        0.277350   \n",
       "14         2.273419          -0.860428    2.564553        0.277350   \n",
       "15        -0.422939           0.691612   -0.426733       -3.605551   \n",
       "16        -0.019709          -0.860428    0.437416        0.277350   \n",
       "17        -0.574369           0.749240    0.204761        0.277350   \n",
       "18        -1.124831           0.183433   -1.290883        0.277350   \n",
       "19        -0.512118          -0.860428   -1.091463        0.277350   \n",
       "20         0.482492          -0.860428    0.071815        0.277350   \n",
       "21        -0.812530           0.520036   -0.027895        0.277350   \n",
       "22         1.213411          -0.284798    0.985819        0.277350   \n",
       "23        -0.346000          -0.860428   -0.426733        0.277350   \n",
       "24        -0.709711           1.336658   -0.310405        0.277350   \n",
       "25        -0.617734           2.303244    0.271234        0.277350   \n",
       "26        -0.303334          -0.860428   -0.410115        0.277350   \n",
       "27         1.682389          -0.860428   -0.127604        0.277350   \n",
       "\n",
       "    Gender_Female  Gender_Male  Married_No  Married_Yes  Dependents_4  \\\n",
       "0               0            1           0            1             0   \n",
       "1               0            1           1            0             1   \n",
       "2               0            1           1            0             0   \n",
       "3               1            0           1            0             1   \n",
       "4               0            1           1            0             0   \n",
       "5               0            1           0            1             0   \n",
       "6               0            1           0            1             0   \n",
       "7               0            1           0            1             0   \n",
       "8               0            1           0            1             1   \n",
       "9               0            1           0            1             0   \n",
       "10              0            1           0            1             0   \n",
       "11              0            1           1            0             0   \n",
       "12              0            1           1            0             0   \n",
       "13              0            1           0            1             1   \n",
       "14              0            1           0            1             0   \n",
       "15              0            1           1            0             0   \n",
       "16              1            0           0            1             0   \n",
       "17              0            1           0            1             0   \n",
       "18              0            1           0            1             0   \n",
       "19              0            1           1            0             0   \n",
       "20              1            0           1            0             0   \n",
       "21              0            1           1            0             0   \n",
       "22              1            0           0            1             0   \n",
       "23              0            1           0            1             1   \n",
       "24              0            1           0            1             0   \n",
       "25              0            1           0            1             0   \n",
       "26              0            1           0            1             1   \n",
       "27              0            1           1            0             0   \n",
       "\n",
       "    Dependents_0  Dependents_1  Dependents_2  Education_Graduate  \\\n",
       "0              0             0             1                   1   \n",
       "1              0             0             0                   1   \n",
       "2              1             0             0                   1   \n",
       "3              0             0             0                   0   \n",
       "4              1             0             0                   1   \n",
       "5              0             0             1                   1   \n",
       "6              0             0             1                   1   \n",
       "7              0             0             1                   1   \n",
       "8              0             0             0                   1   \n",
       "9              0             1             0                   1   \n",
       "10             0             0             1                   0   \n",
       "11             1             0             0                   1   \n",
       "12             1             0             0                   1   \n",
       "13             0             0             0                   1   \n",
       "14             0             0             1                   1   \n",
       "15             0             1             0                   1   \n",
       "16             0             1             0                   1   \n",
       "17             1             0             0                   0   \n",
       "18             1             0             0                   1   \n",
       "19             1             0             0                   1   \n",
       "20             1             0             0                   1   \n",
       "21             1             0             0                   1   \n",
       "22             1             0             0                   1   \n",
       "23             0             0             0                   1   \n",
       "24             0             1             0                   1   \n",
       "25             1             0             0                   1   \n",
       "26             0             0             0                   0   \n",
       "27             1             0             0                   1   \n",
       "\n",
       "    Education_Not Graduate  Self_Employed_No  Self_Employed_Yes  \\\n",
       "0                        0                 1                  0   \n",
       "1                        0                 1                  0   \n",
       "2                        0                 1                  0   \n",
       "3                        1                 1                  0   \n",
       "4                        0                 1                  0   \n",
       "5                        0                 1                  0   \n",
       "6                        0                 1                  0   \n",
       "7                        0                 1                  0   \n",
       "8                        0                 1                  0   \n",
       "9                        0                 1                  0   \n",
       "10                       1                 1                  0   \n",
       "11                       0                 1                  0   \n",
       "12                       0                 1                  0   \n",
       "13                       0                 1                  0   \n",
       "14                       0                 0                  1   \n",
       "15                       0                 1                  0   \n",
       "16                       0                 1                  0   \n",
       "17                       1                 1                  0   \n",
       "18                       0                 1                  0   \n",
       "19                       0                 1                  0   \n",
       "20                       0                 1                  0   \n",
       "21                       0                 1                  0   \n",
       "22                       0                 1                  0   \n",
       "23                       0                 1                  0   \n",
       "24                       0                 0                  1   \n",
       "25                       0                 0                  1   \n",
       "26                       1                 1                  0   \n",
       "27                       0                 0                  1   \n",
       "\n",
       "    Property_Area_Rural  Property_Area_Semiurban  Property_Area_Urban  \n",
       "0                     0                        0                    1  \n",
       "1                     0                        0                    1  \n",
       "2                     0                        1                    0  \n",
       "3                     0                        0                    1  \n",
       "4                     0                        0                    1  \n",
       "5                     0                        0                    1  \n",
       "6                     0                        0                    1  \n",
       "7                     0                        1                    0  \n",
       "8                     0                        1                    0  \n",
       "9                     0                        0                    1  \n",
       "10                    1                        0                    0  \n",
       "11                    0                        0                    1  \n",
       "12                    0                        0                    1  \n",
       "13                    1                        0                    0  \n",
       "14                    1                        0                    0  \n",
       "15                    1                        0                    0  \n",
       "16                    1                        0                    0  \n",
       "17                    0                        1                    0  \n",
       "18                    1                        0                    0  \n",
       "19                    1                        0                    0  \n",
       "20                    0                        1                    0  \n",
       "21                    0                        0                    1  \n",
       "22                    0                        1                    0  \n",
       "23                    0                        0                    1  \n",
       "24                    1                        0                    0  \n",
       "25                    0                        1                    0  \n",
       "26                    1                        0                    0  \n",
       "27                    1                        0                    0  "
      ]
     },
     "execution_count": 163,
     "metadata": {},
     "output_type": "execute_result"
    }
   ],
   "source": [
    "test1_new = test1_new.drop(labels=[\"index\"], axis=1)\n",
    "test1_new"
   ]
  },
  {
   "cell_type": "code",
   "execution_count": 164,
   "id": "40f5949e",
   "metadata": {},
   "outputs": [],
   "source": [
    "Y = train[[\"Loan_Amount_Term\"]]\n",
    "X = train.drop(labels=[\"Loan_Amount_Term\",\"Loan_ID\",\"Loan_Status\"],axis=1)"
   ]
  },
  {
   "cell_type": "code",
   "execution_count": 165,
   "id": "5e3abebb",
   "metadata": {},
   "outputs": [],
   "source": [
    "Xnew = preprocessing(X)\n",
    "\n",
    "from sklearn.model_selection import train_test_split\n",
    "xtrain,xtest,ytrain,ytest=train_test_split(Xnew,Y,test_size=0.2,random_state=21)"
   ]
  },
  {
   "cell_type": "code",
   "execution_count": 166,
   "id": "3df4292c",
   "metadata": {},
   "outputs": [],
   "source": [
    "from sklearn.model_selection import train_test_split\n",
    "xtrain,xtest,ytrain,ytest = train_test_split(Xnew,Y,test_size=0.2,random_state=21)\n",
    "\n",
    "from sklearn.linear_model import LinearRegression\n",
    "lr = LinearRegression()\n",
    "model = lr.fit(xtrain,ytrain)\n",
    "tr_pred = model.predict(xtrain)\n",
    "ts_pred = model.predict(xtest)\n",
    "\n",
    "from sklearn.metrics import mean_absolute_error\n",
    "tr_err = mean_absolute_error(ytrain, tr_pred)\n",
    "ts_err = mean_absolute_error(ytest, ts_pred)"
   ]
  },
  {
   "cell_type": "code",
   "execution_count": 167,
   "id": "470ec5f4",
   "metadata": {},
   "outputs": [
    {
     "data": {
      "text/plain": [
       "36.580064742421115"
      ]
     },
     "execution_count": 167,
     "metadata": {},
     "output_type": "execute_result"
    }
   ],
   "source": [
    "tr_err"
   ]
  },
  {
   "cell_type": "code",
   "execution_count": 168,
   "id": "c68a8f2d",
   "metadata": {},
   "outputs": [
    {
     "data": {
      "text/plain": [
       "34.486120840843725"
      ]
     },
     "execution_count": 168,
     "metadata": {},
     "output_type": "execute_result"
    }
   ],
   "source": [
    "ts_err"
   ]
  },
  {
   "cell_type": "code",
   "execution_count": 169,
   "id": "f98042bb",
   "metadata": {},
   "outputs": [],
   "source": [
    "pred = model.predict(test1_new)"
   ]
  },
  {
   "cell_type": "code",
   "execution_count": 158,
   "id": "62f80871",
   "metadata": {},
   "outputs": [],
   "source": [
    "#Xnew.columns"
   ]
  },
  {
   "cell_type": "code",
   "execution_count": 159,
   "id": "d2fc28d1",
   "metadata": {},
   "outputs": [],
   "source": [
    "#test1_new.columns"
   ]
  },
  {
   "cell_type": "code",
   "execution_count": 171,
   "id": "e84f3fd9",
   "metadata": {},
   "outputs": [
    {
     "data": {
      "text/html": [
       "<div>\n",
       "<style scoped>\n",
       "    .dataframe tbody tr th:only-of-type {\n",
       "        vertical-align: middle;\n",
       "    }\n",
       "\n",
       "    .dataframe tbody tr th {\n",
       "        vertical-align: top;\n",
       "    }\n",
       "\n",
       "    .dataframe thead th {\n",
       "        text-align: right;\n",
       "    }\n",
       "</style>\n",
       "<table border=\"1\" class=\"dataframe\">\n",
       "  <thead>\n",
       "    <tr style=\"text-align: right;\">\n",
       "      <th></th>\n",
       "      <th>Loan_Amount_Term</th>\n",
       "      <th>Extended_Duration</th>\n",
       "    </tr>\n",
       "  </thead>\n",
       "  <tbody>\n",
       "    <tr>\n",
       "      <th>0</th>\n",
       "      <td>240.0</td>\n",
       "      <td>348.726457</td>\n",
       "    </tr>\n",
       "    <tr>\n",
       "      <th>1</th>\n",
       "      <td>180.0</td>\n",
       "      <td>329.493395</td>\n",
       "    </tr>\n",
       "    <tr>\n",
       "      <th>2</th>\n",
       "      <td>180.0</td>\n",
       "      <td>353.877537</td>\n",
       "    </tr>\n",
       "    <tr>\n",
       "      <th>3</th>\n",
       "      <td>180.0</td>\n",
       "      <td>313.802735</td>\n",
       "    </tr>\n",
       "    <tr>\n",
       "      <th>4</th>\n",
       "      <td>180.0</td>\n",
       "      <td>348.733915</td>\n",
       "    </tr>\n",
       "    <tr>\n",
       "      <th>5</th>\n",
       "      <td>180.0</td>\n",
       "      <td>333.037020</td>\n",
       "    </tr>\n",
       "    <tr>\n",
       "      <th>6</th>\n",
       "      <td>180.0</td>\n",
       "      <td>333.180172</td>\n",
       "    </tr>\n",
       "    <tr>\n",
       "      <th>7</th>\n",
       "      <td>180.0</td>\n",
       "      <td>345.362904</td>\n",
       "    </tr>\n",
       "    <tr>\n",
       "      <th>8</th>\n",
       "      <td>180.0</td>\n",
       "      <td>326.057510</td>\n",
       "    </tr>\n",
       "    <tr>\n",
       "      <th>9</th>\n",
       "      <td>60.0</td>\n",
       "      <td>321.587432</td>\n",
       "    </tr>\n",
       "    <tr>\n",
       "      <th>10</th>\n",
       "      <td>180.0</td>\n",
       "      <td>339.420778</td>\n",
       "    </tr>\n",
       "    <tr>\n",
       "      <th>11</th>\n",
       "      <td>180.0</td>\n",
       "      <td>351.694719</td>\n",
       "    </tr>\n",
       "    <tr>\n",
       "      <th>12</th>\n",
       "      <td>84.0</td>\n",
       "      <td>351.499742</td>\n",
       "    </tr>\n",
       "    <tr>\n",
       "      <th>13</th>\n",
       "      <td>240.0</td>\n",
       "      <td>320.935566</td>\n",
       "    </tr>\n",
       "    <tr>\n",
       "      <th>14</th>\n",
       "      <td>12.0</td>\n",
       "      <td>358.254217</td>\n",
       "    </tr>\n",
       "    <tr>\n",
       "      <th>15</th>\n",
       "      <td>240.0</td>\n",
       "      <td>343.823289</td>\n",
       "    </tr>\n",
       "    <tr>\n",
       "      <th>16</th>\n",
       "      <td>84.0</td>\n",
       "      <td>344.113733</td>\n",
       "    </tr>\n",
       "    <tr>\n",
       "      <th>17</th>\n",
       "      <td>36.0</td>\n",
       "      <td>332.498877</td>\n",
       "    </tr>\n",
       "    <tr>\n",
       "      <th>18</th>\n",
       "      <td>180.0</td>\n",
       "      <td>346.132984</td>\n",
       "    </tr>\n",
       "    <tr>\n",
       "      <th>19</th>\n",
       "      <td>180.0</td>\n",
       "      <td>360.677270</td>\n",
       "    </tr>\n",
       "    <tr>\n",
       "      <th>20</th>\n",
       "      <td>180.0</td>\n",
       "      <td>365.251003</td>\n",
       "    </tr>\n",
       "    <tr>\n",
       "      <th>21</th>\n",
       "      <td>84.0</td>\n",
       "      <td>349.009236</td>\n",
       "    </tr>\n",
       "    <tr>\n",
       "      <th>22</th>\n",
       "      <td>180.0</td>\n",
       "      <td>354.298271</td>\n",
       "    </tr>\n",
       "    <tr>\n",
       "      <th>23</th>\n",
       "      <td>120.0</td>\n",
       "      <td>317.917893</td>\n",
       "    </tr>\n",
       "    <tr>\n",
       "      <th>24</th>\n",
       "      <td>240.0</td>\n",
       "      <td>319.169495</td>\n",
       "    </tr>\n",
       "    <tr>\n",
       "      <th>25</th>\n",
       "      <td>180.0</td>\n",
       "      <td>333.180799</td>\n",
       "    </tr>\n",
       "    <tr>\n",
       "      <th>26</th>\n",
       "      <td>180.0</td>\n",
       "      <td>315.079345</td>\n",
       "    </tr>\n",
       "    <tr>\n",
       "      <th>27</th>\n",
       "      <td>180.0</td>\n",
       "      <td>350.491533</td>\n",
       "    </tr>\n",
       "  </tbody>\n",
       "</table>\n",
       "</div>"
      ],
      "text/plain": [
       "    Loan_Amount_Term  Extended_Duration\n",
       "0              240.0         348.726457\n",
       "1              180.0         329.493395\n",
       "2              180.0         353.877537\n",
       "3              180.0         313.802735\n",
       "4              180.0         348.733915\n",
       "5              180.0         333.037020\n",
       "6              180.0         333.180172\n",
       "7              180.0         345.362904\n",
       "8              180.0         326.057510\n",
       "9               60.0         321.587432\n",
       "10             180.0         339.420778\n",
       "11             180.0         351.694719\n",
       "12              84.0         351.499742\n",
       "13             240.0         320.935566\n",
       "14              12.0         358.254217\n",
       "15             240.0         343.823289\n",
       "16              84.0         344.113733\n",
       "17              36.0         332.498877\n",
       "18             180.0         346.132984\n",
       "19             180.0         360.677270\n",
       "20             180.0         365.251003\n",
       "21              84.0         349.009236\n",
       "22             180.0         354.298271\n",
       "23             120.0         317.917893\n",
       "24             240.0         319.169495\n",
       "25             180.0         333.180799\n",
       "26             180.0         315.079345\n",
       "27             180.0         350.491533"
      ]
     },
     "execution_count": 171,
     "metadata": {},
     "output_type": "execute_result"
    }
   ],
   "source": [
    "extended_duration = test1[[\"Loan_Amount_Term\"]]\n",
    "extended_duration[\"Extended_Duration\"] = pred\n",
    "extended_duration"
   ]
  },
  {
   "cell_type": "code",
   "execution_count": null,
   "id": "9a5ebba8",
   "metadata": {},
   "outputs": [],
   "source": []
  }
 ],
 "metadata": {
  "kernelspec": {
   "display_name": "Python 3 (ipykernel)",
   "language": "python",
   "name": "python3"
  },
  "language_info": {
   "codemirror_mode": {
    "name": "ipython",
    "version": 3
   },
   "file_extension": ".py",
   "mimetype": "text/x-python",
   "name": "python",
   "nbconvert_exporter": "python",
   "pygments_lexer": "ipython3",
   "version": "3.9.7"
  }
 },
 "nbformat": 4,
 "nbformat_minor": 5
}
